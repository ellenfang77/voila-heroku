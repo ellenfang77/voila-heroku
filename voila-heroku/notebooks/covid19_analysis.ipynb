{
 "cells": [
  {
   "cell_type": "code",
   "execution_count": 11,
   "metadata": {},
   "outputs": [
    {
     "ename": "ModuleNotFoundError",
     "evalue": "No module named 'ipywidgets'",
     "output_type": "error",
     "traceback": [
      "\u001b[0;31m---------------------------------------------------------------------------\u001b[0m",
      "\u001b[0;31mModuleNotFoundError\u001b[0m                       Traceback (most recent call last)",
      "\u001b[0;32m<ipython-input-11-7b89b544b7bb>\u001b[0m in \u001b[0;36m<module>\u001b[0;34m\u001b[0m\n\u001b[1;32m      2\u001b[0m \u001b[0;34m\u001b[0m\u001b[0m\n\u001b[1;32m      3\u001b[0m \u001b[0;32mfrom\u001b[0m \u001b[0m__future__\u001b[0m \u001b[0;32mimport\u001b[0m \u001b[0mprint_function\u001b[0m\u001b[0;34m\u001b[0m\u001b[0;34m\u001b[0m\u001b[0m\n\u001b[0;32m----> 4\u001b[0;31m \u001b[0;32mfrom\u001b[0m \u001b[0mipywidgets\u001b[0m \u001b[0;32mimport\u001b[0m \u001b[0minteract\u001b[0m\u001b[0;34m,\u001b[0m \u001b[0minteractive\u001b[0m\u001b[0;34m,\u001b[0m \u001b[0mfixed\u001b[0m\u001b[0;34m,\u001b[0m \u001b[0minteract_manual\u001b[0m\u001b[0;34m\u001b[0m\u001b[0;34m\u001b[0m\u001b[0m\n\u001b[0m\u001b[1;32m      5\u001b[0m \u001b[0;32mfrom\u001b[0m \u001b[0mIPython\u001b[0m\u001b[0;34m.\u001b[0m\u001b[0mcore\u001b[0m\u001b[0;34m.\u001b[0m\u001b[0mdisplay\u001b[0m \u001b[0;32mimport\u001b[0m \u001b[0mdisplay\u001b[0m\u001b[0;34m,\u001b[0m \u001b[0mHTML\u001b[0m\u001b[0;34m\u001b[0m\u001b[0;34m\u001b[0m\u001b[0m\n\u001b[1;32m      6\u001b[0m \u001b[0;34m\u001b[0m\u001b[0m\n",
      "\u001b[0;31mModuleNotFoundError\u001b[0m: No module named 'ipywidgets'"
     ]
    }
   ],
   "source": [
    "# importing\n",
    "\n",
    "from __future__ import print_function\n",
    "from ipywidgets import interact, interactive, fixed, interact_manual\n",
    "from IPython.core.display import display, HTML\n",
    "\n",
    "import numpy as np\n",
    "import pandas as pd\n",
    "import matplotlib.pyplot as plt\n",
    "import plotly.express as px\n",
    "import folium\n",
    "import plotly.graph_objects as go\n",
    "import seaborn as sns\n",
    "import ipywidgets as widgets"
   ]
  },
  {
   "cell_type": "markdown",
   "metadata": {},
   "source": [
    "# Interactive Dashboard: Covid-19 "
   ]
  },
  {
   "cell_type": "code",
   "execution_count": 7,
   "metadata": {},
   "outputs": [
    {
     "ename": "NameError",
     "evalue": "name 'pd' is not defined",
     "output_type": "error",
     "traceback": [
      "\u001b[0;31m---------------------------------------------------------------------------\u001b[0m",
      "\u001b[0;31mNameError\u001b[0m                                 Traceback (most recent call last)",
      "\u001b[0;32m<ipython-input-7-7997a80d34af>\u001b[0m in \u001b[0;36m<module>\u001b[0;34m\u001b[0m\n\u001b[1;32m      1\u001b[0m \u001b[0;31m# load data\u001b[0m\u001b[0;34m\u001b[0m\u001b[0;34m\u001b[0m\u001b[0;34m\u001b[0m\u001b[0m\n\u001b[0;32m----> 2\u001b[0;31m \u001b[0mdeath_df\u001b[0m \u001b[0;34m=\u001b[0m \u001b[0mpd\u001b[0m\u001b[0;34m.\u001b[0m\u001b[0mread_csv\u001b[0m\u001b[0;34m(\u001b[0m\u001b[0;34m'https://raw.githubusercontent.com/CSSEGISandData/COVID-19/master/csse_covid_19_data/csse_covid_19_time_series/time_series_covid19_deaths_global.csv'\u001b[0m\u001b[0;34m)\u001b[0m\u001b[0;34m\u001b[0m\u001b[0;34m\u001b[0m\u001b[0m\n\u001b[0m\u001b[1;32m      3\u001b[0m \u001b[0mconfirmed_df\u001b[0m \u001b[0;34m=\u001b[0m \u001b[0mpd\u001b[0m\u001b[0;34m.\u001b[0m\u001b[0mread_csv\u001b[0m\u001b[0;34m(\u001b[0m\u001b[0;34m'https://raw.githubusercontent.com/CSSEGISandData/COVID-19/master/csse_covid_19_data/csse_covid_19_time_series/time_series_covid19_confirmed_global.csv'\u001b[0m\u001b[0;34m)\u001b[0m\u001b[0;34m\u001b[0m\u001b[0;34m\u001b[0m\u001b[0m\n\u001b[1;32m      4\u001b[0m \u001b[0mrecovered_df\u001b[0m \u001b[0;34m=\u001b[0m \u001b[0mpd\u001b[0m\u001b[0;34m.\u001b[0m\u001b[0mread_csv\u001b[0m\u001b[0;34m(\u001b[0m\u001b[0;34m'https://raw.githubusercontent.com/CSSEGISandData/COVID-19/master/csse_covid_19_data/csse_covid_19_time_series/time_series_covid19_recovered_global.csv'\u001b[0m\u001b[0;34m)\u001b[0m\u001b[0;34m\u001b[0m\u001b[0;34m\u001b[0m\u001b[0m\n\u001b[1;32m      5\u001b[0m \u001b[0mcountry_df\u001b[0m \u001b[0;34m=\u001b[0m \u001b[0mpd\u001b[0m\u001b[0;34m.\u001b[0m\u001b[0mread_csv\u001b[0m\u001b[0;34m(\u001b[0m\u001b[0;34m'https://raw.githubusercontent.com/CSSEGISandData/COVID-19/web-data/data/cases_country.csv'\u001b[0m\u001b[0;34m)\u001b[0m\u001b[0;34m\u001b[0m\u001b[0;34m\u001b[0m\u001b[0m\n",
      "\u001b[0;31mNameError\u001b[0m: name 'pd' is not defined"
     ]
    }
   ],
   "source": [
    "# load data\n",
    "death_df = pd.read_csv('https://raw.githubusercontent.com/CSSEGISandData/COVID-19/master/csse_covid_19_data/csse_covid_19_time_series/time_series_covid19_deaths_global.csv')\n",
    "confirmed_df = pd.read_csv('https://raw.githubusercontent.com/CSSEGISandData/COVID-19/master/csse_covid_19_data/csse_covid_19_time_series/time_series_covid19_confirmed_global.csv')\n",
    "recovered_df = pd.read_csv('https://raw.githubusercontent.com/CSSEGISandData/COVID-19/master/csse_covid_19_data/csse_covid_19_time_series/time_series_covid19_recovered_global.csv')\n",
    "country_df = pd.read_csv('https://raw.githubusercontent.com/CSSEGISandData/COVID-19/web-data/data/cases_country.csv')"
   ]
  },
  {
   "cell_type": "markdown",
   "metadata": {},
   "source": [
    "## Confirmed Cases"
   ]
  },
  {
   "cell_type": "markdown",
   "metadata": {},
   "source": [
    "[full confirmed list](confirmed_cases.ipynb)"
   ]
  },
  {
   "cell_type": "code",
   "execution_count": 12,
   "metadata": {
    "scrolled": true
   },
   "outputs": [
    {
     "data": {
      "text/html": [
       "<div>\n",
       "<style scoped>\n",
       "    .dataframe tbody tr th:only-of-type {\n",
       "        vertical-align: middle;\n",
       "    }\n",
       "\n",
       "    .dataframe tbody tr th {\n",
       "        vertical-align: top;\n",
       "    }\n",
       "\n",
       "    .dataframe thead th {\n",
       "        text-align: right;\n",
       "    }\n",
       "</style>\n",
       "<table border=\"1\" class=\"dataframe\">\n",
       "  <thead>\n",
       "    <tr style=\"text-align: right;\">\n",
       "      <th></th>\n",
       "      <th>Province/State</th>\n",
       "      <th>Country/Region</th>\n",
       "      <th>Lat</th>\n",
       "      <th>Long</th>\n",
       "      <th>1/22/20</th>\n",
       "      <th>1/23/20</th>\n",
       "      <th>1/24/20</th>\n",
       "      <th>1/25/20</th>\n",
       "      <th>1/26/20</th>\n",
       "      <th>1/27/20</th>\n",
       "      <th>...</th>\n",
       "      <th>7/31/20</th>\n",
       "      <th>8/1/20</th>\n",
       "      <th>8/2/20</th>\n",
       "      <th>8/3/20</th>\n",
       "      <th>8/4/20</th>\n",
       "      <th>8/5/20</th>\n",
       "      <th>8/6/20</th>\n",
       "      <th>8/7/20</th>\n",
       "      <th>8/8/20</th>\n",
       "      <th>8/9/20</th>\n",
       "    </tr>\n",
       "  </thead>\n",
       "  <tbody>\n",
       "    <tr>\n",
       "      <th>0</th>\n",
       "      <td>NaN</td>\n",
       "      <td>Afghanistan</td>\n",
       "      <td>33.93911</td>\n",
       "      <td>67.709953</td>\n",
       "      <td>0</td>\n",
       "      <td>0</td>\n",
       "      <td>0</td>\n",
       "      <td>0</td>\n",
       "      <td>0</td>\n",
       "      <td>0</td>\n",
       "      <td>...</td>\n",
       "      <td>36675</td>\n",
       "      <td>36710</td>\n",
       "      <td>36710</td>\n",
       "      <td>36747</td>\n",
       "      <td>36782</td>\n",
       "      <td>36829</td>\n",
       "      <td>36896</td>\n",
       "      <td>37015</td>\n",
       "      <td>37054</td>\n",
       "      <td>37054</td>\n",
       "    </tr>\n",
       "    <tr>\n",
       "      <th>1</th>\n",
       "      <td>NaN</td>\n",
       "      <td>Albania</td>\n",
       "      <td>41.15330</td>\n",
       "      <td>20.168300</td>\n",
       "      <td>0</td>\n",
       "      <td>0</td>\n",
       "      <td>0</td>\n",
       "      <td>0</td>\n",
       "      <td>0</td>\n",
       "      <td>0</td>\n",
       "      <td>...</td>\n",
       "      <td>5276</td>\n",
       "      <td>5396</td>\n",
       "      <td>5519</td>\n",
       "      <td>5620</td>\n",
       "      <td>5750</td>\n",
       "      <td>5889</td>\n",
       "      <td>6016</td>\n",
       "      <td>6151</td>\n",
       "      <td>6275</td>\n",
       "      <td>6411</td>\n",
       "    </tr>\n",
       "    <tr>\n",
       "      <th>2</th>\n",
       "      <td>NaN</td>\n",
       "      <td>Algeria</td>\n",
       "      <td>28.03390</td>\n",
       "      <td>1.659600</td>\n",
       "      <td>0</td>\n",
       "      <td>0</td>\n",
       "      <td>0</td>\n",
       "      <td>0</td>\n",
       "      <td>0</td>\n",
       "      <td>0</td>\n",
       "      <td>...</td>\n",
       "      <td>30394</td>\n",
       "      <td>30950</td>\n",
       "      <td>31465</td>\n",
       "      <td>31972</td>\n",
       "      <td>32504</td>\n",
       "      <td>33055</td>\n",
       "      <td>33626</td>\n",
       "      <td>34155</td>\n",
       "      <td>34693</td>\n",
       "      <td>35160</td>\n",
       "    </tr>\n",
       "    <tr>\n",
       "      <th>3</th>\n",
       "      <td>NaN</td>\n",
       "      <td>Andorra</td>\n",
       "      <td>42.50630</td>\n",
       "      <td>1.521800</td>\n",
       "      <td>0</td>\n",
       "      <td>0</td>\n",
       "      <td>0</td>\n",
       "      <td>0</td>\n",
       "      <td>0</td>\n",
       "      <td>0</td>\n",
       "      <td>...</td>\n",
       "      <td>925</td>\n",
       "      <td>925</td>\n",
       "      <td>925</td>\n",
       "      <td>937</td>\n",
       "      <td>939</td>\n",
       "      <td>939</td>\n",
       "      <td>944</td>\n",
       "      <td>955</td>\n",
       "      <td>955</td>\n",
       "      <td>955</td>\n",
       "    </tr>\n",
       "    <tr>\n",
       "      <th>4</th>\n",
       "      <td>NaN</td>\n",
       "      <td>Angola</td>\n",
       "      <td>-11.20270</td>\n",
       "      <td>17.873900</td>\n",
       "      <td>0</td>\n",
       "      <td>0</td>\n",
       "      <td>0</td>\n",
       "      <td>0</td>\n",
       "      <td>0</td>\n",
       "      <td>0</td>\n",
       "      <td>...</td>\n",
       "      <td>1148</td>\n",
       "      <td>1164</td>\n",
       "      <td>1199</td>\n",
       "      <td>1280</td>\n",
       "      <td>1344</td>\n",
       "      <td>1395</td>\n",
       "      <td>1483</td>\n",
       "      <td>1538</td>\n",
       "      <td>1572</td>\n",
       "      <td>1672</td>\n",
       "    </tr>\n",
       "  </tbody>\n",
       "</table>\n",
       "<p>5 rows × 205 columns</p>\n",
       "</div>"
      ],
      "text/plain": [
       "  Province/State Country/Region       Lat       Long  1/22/20  1/23/20  \\\n",
       "0            NaN    Afghanistan  33.93911  67.709953        0        0   \n",
       "1            NaN        Albania  41.15330  20.168300        0        0   \n",
       "2            NaN        Algeria  28.03390   1.659600        0        0   \n",
       "3            NaN        Andorra  42.50630   1.521800        0        0   \n",
       "4            NaN         Angola -11.20270  17.873900        0        0   \n",
       "\n",
       "   1/24/20  1/25/20  1/26/20  1/27/20  ...  7/31/20  8/1/20  8/2/20  8/3/20  \\\n",
       "0        0        0        0        0  ...    36675   36710   36710   36747   \n",
       "1        0        0        0        0  ...     5276    5396    5519    5620   \n",
       "2        0        0        0        0  ...    30394   30950   31465   31972   \n",
       "3        0        0        0        0  ...      925     925     925     937   \n",
       "4        0        0        0        0  ...     1148    1164    1199    1280   \n",
       "\n",
       "   8/4/20  8/5/20  8/6/20  8/7/20  8/8/20  8/9/20  \n",
       "0   36782   36829   36896   37015   37054   37054  \n",
       "1    5750    5889    6016    6151    6275    6411  \n",
       "2   32504   33055   33626   34155   34693   35160  \n",
       "3     939     939     944     955     955     955  \n",
       "4    1344    1395    1483    1538    1572    1672  \n",
       "\n",
       "[5 rows x 205 columns]"
      ]
     },
     "execution_count": 12,
     "metadata": {},
     "output_type": "execute_result"
    }
   ],
   "source": [
    "confirmed_df.head(5)"
   ]
  },
  {
   "cell_type": "markdown",
   "metadata": {},
   "source": [
    "## Death Cases"
   ]
  },
  {
   "cell_type": "markdown",
   "metadata": {},
   "source": [
    "[full death list](death_cases.ipynb)"
   ]
  },
  {
   "cell_type": "code",
   "execution_count": 13,
   "metadata": {},
   "outputs": [
    {
     "data": {
      "text/html": [
       "<div>\n",
       "<style scoped>\n",
       "    .dataframe tbody tr th:only-of-type {\n",
       "        vertical-align: middle;\n",
       "    }\n",
       "\n",
       "    .dataframe tbody tr th {\n",
       "        vertical-align: top;\n",
       "    }\n",
       "\n",
       "    .dataframe thead th {\n",
       "        text-align: right;\n",
       "    }\n",
       "</style>\n",
       "<table border=\"1\" class=\"dataframe\">\n",
       "  <thead>\n",
       "    <tr style=\"text-align: right;\">\n",
       "      <th></th>\n",
       "      <th>Province/State</th>\n",
       "      <th>Country/Region</th>\n",
       "      <th>Lat</th>\n",
       "      <th>Long</th>\n",
       "      <th>1/22/20</th>\n",
       "      <th>1/23/20</th>\n",
       "      <th>1/24/20</th>\n",
       "      <th>1/25/20</th>\n",
       "      <th>1/26/20</th>\n",
       "      <th>1/27/20</th>\n",
       "      <th>...</th>\n",
       "      <th>7/31/20</th>\n",
       "      <th>8/1/20</th>\n",
       "      <th>8/2/20</th>\n",
       "      <th>8/3/20</th>\n",
       "      <th>8/4/20</th>\n",
       "      <th>8/5/20</th>\n",
       "      <th>8/6/20</th>\n",
       "      <th>8/7/20</th>\n",
       "      <th>8/8/20</th>\n",
       "      <th>8/9/20</th>\n",
       "    </tr>\n",
       "  </thead>\n",
       "  <tbody>\n",
       "    <tr>\n",
       "      <th>0</th>\n",
       "      <td>NaN</td>\n",
       "      <td>Afghanistan</td>\n",
       "      <td>33.93911</td>\n",
       "      <td>67.709953</td>\n",
       "      <td>0</td>\n",
       "      <td>0</td>\n",
       "      <td>0</td>\n",
       "      <td>0</td>\n",
       "      <td>0</td>\n",
       "      <td>0</td>\n",
       "      <td>...</td>\n",
       "      <td>1272</td>\n",
       "      <td>1283</td>\n",
       "      <td>1284</td>\n",
       "      <td>1288</td>\n",
       "      <td>1288</td>\n",
       "      <td>1294</td>\n",
       "      <td>1298</td>\n",
       "      <td>1307</td>\n",
       "      <td>1312</td>\n",
       "      <td>1312</td>\n",
       "    </tr>\n",
       "    <tr>\n",
       "      <th>1</th>\n",
       "      <td>NaN</td>\n",
       "      <td>Albania</td>\n",
       "      <td>41.15330</td>\n",
       "      <td>20.168300</td>\n",
       "      <td>0</td>\n",
       "      <td>0</td>\n",
       "      <td>0</td>\n",
       "      <td>0</td>\n",
       "      <td>0</td>\n",
       "      <td>0</td>\n",
       "      <td>...</td>\n",
       "      <td>157</td>\n",
       "      <td>161</td>\n",
       "      <td>166</td>\n",
       "      <td>172</td>\n",
       "      <td>176</td>\n",
       "      <td>182</td>\n",
       "      <td>188</td>\n",
       "      <td>189</td>\n",
       "      <td>193</td>\n",
       "      <td>199</td>\n",
       "    </tr>\n",
       "    <tr>\n",
       "      <th>2</th>\n",
       "      <td>NaN</td>\n",
       "      <td>Algeria</td>\n",
       "      <td>28.03390</td>\n",
       "      <td>1.659600</td>\n",
       "      <td>0</td>\n",
       "      <td>0</td>\n",
       "      <td>0</td>\n",
       "      <td>0</td>\n",
       "      <td>0</td>\n",
       "      <td>0</td>\n",
       "      <td>...</td>\n",
       "      <td>1210</td>\n",
       "      <td>1223</td>\n",
       "      <td>1231</td>\n",
       "      <td>1239</td>\n",
       "      <td>1248</td>\n",
       "      <td>1261</td>\n",
       "      <td>1273</td>\n",
       "      <td>1282</td>\n",
       "      <td>1293</td>\n",
       "      <td>1302</td>\n",
       "    </tr>\n",
       "    <tr>\n",
       "      <th>3</th>\n",
       "      <td>NaN</td>\n",
       "      <td>Andorra</td>\n",
       "      <td>42.50630</td>\n",
       "      <td>1.521800</td>\n",
       "      <td>0</td>\n",
       "      <td>0</td>\n",
       "      <td>0</td>\n",
       "      <td>0</td>\n",
       "      <td>0</td>\n",
       "      <td>0</td>\n",
       "      <td>...</td>\n",
       "      <td>52</td>\n",
       "      <td>52</td>\n",
       "      <td>52</td>\n",
       "      <td>52</td>\n",
       "      <td>52</td>\n",
       "      <td>52</td>\n",
       "      <td>52</td>\n",
       "      <td>52</td>\n",
       "      <td>52</td>\n",
       "      <td>52</td>\n",
       "    </tr>\n",
       "    <tr>\n",
       "      <th>4</th>\n",
       "      <td>NaN</td>\n",
       "      <td>Angola</td>\n",
       "      <td>-11.20270</td>\n",
       "      <td>17.873900</td>\n",
       "      <td>0</td>\n",
       "      <td>0</td>\n",
       "      <td>0</td>\n",
       "      <td>0</td>\n",
       "      <td>0</td>\n",
       "      <td>0</td>\n",
       "      <td>...</td>\n",
       "      <td>52</td>\n",
       "      <td>54</td>\n",
       "      <td>55</td>\n",
       "      <td>58</td>\n",
       "      <td>59</td>\n",
       "      <td>62</td>\n",
       "      <td>64</td>\n",
       "      <td>67</td>\n",
       "      <td>70</td>\n",
       "      <td>75</td>\n",
       "    </tr>\n",
       "  </tbody>\n",
       "</table>\n",
       "<p>5 rows × 205 columns</p>\n",
       "</div>"
      ],
      "text/plain": [
       "  Province/State Country/Region       Lat       Long  1/22/20  1/23/20  \\\n",
       "0            NaN    Afghanistan  33.93911  67.709953        0        0   \n",
       "1            NaN        Albania  41.15330  20.168300        0        0   \n",
       "2            NaN        Algeria  28.03390   1.659600        0        0   \n",
       "3            NaN        Andorra  42.50630   1.521800        0        0   \n",
       "4            NaN         Angola -11.20270  17.873900        0        0   \n",
       "\n",
       "   1/24/20  1/25/20  1/26/20  1/27/20  ...  7/31/20  8/1/20  8/2/20  8/3/20  \\\n",
       "0        0        0        0        0  ...     1272    1283    1284    1288   \n",
       "1        0        0        0        0  ...      157     161     166     172   \n",
       "2        0        0        0        0  ...     1210    1223    1231    1239   \n",
       "3        0        0        0        0  ...       52      52      52      52   \n",
       "4        0        0        0        0  ...       52      54      55      58   \n",
       "\n",
       "   8/4/20  8/5/20  8/6/20  8/7/20  8/8/20  8/9/20  \n",
       "0    1288    1294    1298    1307    1312    1312  \n",
       "1     176     182     188     189     193     199  \n",
       "2    1248    1261    1273    1282    1293    1302  \n",
       "3      52      52      52      52      52      52  \n",
       "4      59      62      64      67      70      75  \n",
       "\n",
       "[5 rows x 205 columns]"
      ]
     },
     "execution_count": 13,
     "metadata": {},
     "output_type": "execute_result"
    }
   ],
   "source": [
    "death_df.head(5)"
   ]
  },
  {
   "cell_type": "markdown",
   "metadata": {},
   "source": [
    "## Recovered Cases"
   ]
  },
  {
   "cell_type": "markdown",
   "metadata": {},
   "source": [
    "[full recovered list](recovered_cases.ipynb)"
   ]
  },
  {
   "cell_type": "code",
   "execution_count": 14,
   "metadata": {},
   "outputs": [
    {
     "data": {
      "text/html": [
       "<div>\n",
       "<style scoped>\n",
       "    .dataframe tbody tr th:only-of-type {\n",
       "        vertical-align: middle;\n",
       "    }\n",
       "\n",
       "    .dataframe tbody tr th {\n",
       "        vertical-align: top;\n",
       "    }\n",
       "\n",
       "    .dataframe thead th {\n",
       "        text-align: right;\n",
       "    }\n",
       "</style>\n",
       "<table border=\"1\" class=\"dataframe\">\n",
       "  <thead>\n",
       "    <tr style=\"text-align: right;\">\n",
       "      <th></th>\n",
       "      <th>Province/State</th>\n",
       "      <th>Country/Region</th>\n",
       "      <th>Lat</th>\n",
       "      <th>Long</th>\n",
       "      <th>1/22/20</th>\n",
       "      <th>1/23/20</th>\n",
       "      <th>1/24/20</th>\n",
       "      <th>1/25/20</th>\n",
       "      <th>1/26/20</th>\n",
       "      <th>1/27/20</th>\n",
       "      <th>...</th>\n",
       "      <th>7/31/20</th>\n",
       "      <th>8/1/20</th>\n",
       "      <th>8/2/20</th>\n",
       "      <th>8/3/20</th>\n",
       "      <th>8/4/20</th>\n",
       "      <th>8/5/20</th>\n",
       "      <th>8/6/20</th>\n",
       "      <th>8/7/20</th>\n",
       "      <th>8/8/20</th>\n",
       "      <th>8/9/20</th>\n",
       "    </tr>\n",
       "  </thead>\n",
       "  <tbody>\n",
       "    <tr>\n",
       "      <th>0</th>\n",
       "      <td>NaN</td>\n",
       "      <td>Afghanistan</td>\n",
       "      <td>33.93911</td>\n",
       "      <td>67.709953</td>\n",
       "      <td>0</td>\n",
       "      <td>0</td>\n",
       "      <td>0</td>\n",
       "      <td>0</td>\n",
       "      <td>0</td>\n",
       "      <td>0</td>\n",
       "      <td>...</td>\n",
       "      <td>25509</td>\n",
       "      <td>25509</td>\n",
       "      <td>25510</td>\n",
       "      <td>25669</td>\n",
       "      <td>25669</td>\n",
       "      <td>25742</td>\n",
       "      <td>25840</td>\n",
       "      <td>25903</td>\n",
       "      <td>25960</td>\n",
       "      <td>25960</td>\n",
       "    </tr>\n",
       "    <tr>\n",
       "      <th>1</th>\n",
       "      <td>NaN</td>\n",
       "      <td>Albania</td>\n",
       "      <td>41.15330</td>\n",
       "      <td>20.168300</td>\n",
       "      <td>0</td>\n",
       "      <td>0</td>\n",
       "      <td>0</td>\n",
       "      <td>0</td>\n",
       "      <td>0</td>\n",
       "      <td>0</td>\n",
       "      <td>...</td>\n",
       "      <td>2952</td>\n",
       "      <td>2961</td>\n",
       "      <td>3018</td>\n",
       "      <td>3031</td>\n",
       "      <td>3031</td>\n",
       "      <td>3123</td>\n",
       "      <td>3155</td>\n",
       "      <td>3227</td>\n",
       "      <td>3268</td>\n",
       "      <td>3342</td>\n",
       "    </tr>\n",
       "    <tr>\n",
       "      <th>2</th>\n",
       "      <td>NaN</td>\n",
       "      <td>Algeria</td>\n",
       "      <td>28.03390</td>\n",
       "      <td>1.659600</td>\n",
       "      <td>0</td>\n",
       "      <td>0</td>\n",
       "      <td>0</td>\n",
       "      <td>0</td>\n",
       "      <td>0</td>\n",
       "      <td>0</td>\n",
       "      <td>...</td>\n",
       "      <td>20537</td>\n",
       "      <td>20988</td>\n",
       "      <td>21419</td>\n",
       "      <td>21901</td>\n",
       "      <td>22375</td>\n",
       "      <td>22802</td>\n",
       "      <td>23238</td>\n",
       "      <td>23667</td>\n",
       "      <td>24083</td>\n",
       "      <td>24506</td>\n",
       "    </tr>\n",
       "    <tr>\n",
       "      <th>3</th>\n",
       "      <td>NaN</td>\n",
       "      <td>Andorra</td>\n",
       "      <td>42.50630</td>\n",
       "      <td>1.521800</td>\n",
       "      <td>0</td>\n",
       "      <td>0</td>\n",
       "      <td>0</td>\n",
       "      <td>0</td>\n",
       "      <td>0</td>\n",
       "      <td>0</td>\n",
       "      <td>...</td>\n",
       "      <td>807</td>\n",
       "      <td>807</td>\n",
       "      <td>807</td>\n",
       "      <td>821</td>\n",
       "      <td>825</td>\n",
       "      <td>825</td>\n",
       "      <td>828</td>\n",
       "      <td>839</td>\n",
       "      <td>839</td>\n",
       "      <td>839</td>\n",
       "    </tr>\n",
       "    <tr>\n",
       "      <th>4</th>\n",
       "      <td>NaN</td>\n",
       "      <td>Angola</td>\n",
       "      <td>-11.20270</td>\n",
       "      <td>17.873900</td>\n",
       "      <td>0</td>\n",
       "      <td>0</td>\n",
       "      <td>0</td>\n",
       "      <td>0</td>\n",
       "      <td>0</td>\n",
       "      <td>0</td>\n",
       "      <td>...</td>\n",
       "      <td>437</td>\n",
       "      <td>460</td>\n",
       "      <td>461</td>\n",
       "      <td>476</td>\n",
       "      <td>503</td>\n",
       "      <td>506</td>\n",
       "      <td>520</td>\n",
       "      <td>544</td>\n",
       "      <td>564</td>\n",
       "      <td>567</td>\n",
       "    </tr>\n",
       "  </tbody>\n",
       "</table>\n",
       "<p>5 rows × 205 columns</p>\n",
       "</div>"
      ],
      "text/plain": [
       "  Province/State Country/Region       Lat       Long  1/22/20  1/23/20  \\\n",
       "0            NaN    Afghanistan  33.93911  67.709953        0        0   \n",
       "1            NaN        Albania  41.15330  20.168300        0        0   \n",
       "2            NaN        Algeria  28.03390   1.659600        0        0   \n",
       "3            NaN        Andorra  42.50630   1.521800        0        0   \n",
       "4            NaN         Angola -11.20270  17.873900        0        0   \n",
       "\n",
       "   1/24/20  1/25/20  1/26/20  1/27/20  ...  7/31/20  8/1/20  8/2/20  8/3/20  \\\n",
       "0        0        0        0        0  ...    25509   25509   25510   25669   \n",
       "1        0        0        0        0  ...     2952    2961    3018    3031   \n",
       "2        0        0        0        0  ...    20537   20988   21419   21901   \n",
       "3        0        0        0        0  ...      807     807     807     821   \n",
       "4        0        0        0        0  ...      437     460     461     476   \n",
       "\n",
       "   8/4/20  8/5/20  8/6/20  8/7/20  8/8/20  8/9/20  \n",
       "0   25669   25742   25840   25903   25960   25960  \n",
       "1    3031    3123    3155    3227    3268    3342  \n",
       "2   22375   22802   23238   23667   24083   24506  \n",
       "3     825     825     828     839     839     839  \n",
       "4     503     506     520     544     564     567  \n",
       "\n",
       "[5 rows x 205 columns]"
      ]
     },
     "execution_count": 14,
     "metadata": {},
     "output_type": "execute_result"
    }
   ],
   "source": [
    "recovered_df.head(5)"
   ]
  },
  {
   "cell_type": "markdown",
   "metadata": {},
   "source": [
    "## Cases of Each Country"
   ]
  },
  {
   "cell_type": "markdown",
   "metadata": {},
   "source": [
    "[full country list](country_cases.ipynb)"
   ]
  },
  {
   "cell_type": "code",
   "execution_count": 15,
   "metadata": {},
   "outputs": [
    {
     "data": {
      "text/html": [
       "<div>\n",
       "<style scoped>\n",
       "    .dataframe tbody tr th:only-of-type {\n",
       "        vertical-align: middle;\n",
       "    }\n",
       "\n",
       "    .dataframe tbody tr th {\n",
       "        vertical-align: top;\n",
       "    }\n",
       "\n",
       "    .dataframe thead th {\n",
       "        text-align: right;\n",
       "    }\n",
       "</style>\n",
       "<table border=\"1\" class=\"dataframe\">\n",
       "  <thead>\n",
       "    <tr style=\"text-align: right;\">\n",
       "      <th></th>\n",
       "      <th>Country_Region</th>\n",
       "      <th>Last_Update</th>\n",
       "      <th>Lat</th>\n",
       "      <th>Long_</th>\n",
       "      <th>Confirmed</th>\n",
       "      <th>Deaths</th>\n",
       "      <th>Recovered</th>\n",
       "      <th>Active</th>\n",
       "      <th>Incident_Rate</th>\n",
       "      <th>People_Tested</th>\n",
       "      <th>People_Hospitalized</th>\n",
       "      <th>Mortality_Rate</th>\n",
       "      <th>UID</th>\n",
       "      <th>ISO3</th>\n",
       "    </tr>\n",
       "  </thead>\n",
       "  <tbody>\n",
       "    <tr>\n",
       "      <th>0</th>\n",
       "      <td>Australia</td>\n",
       "      <td>2020-08-11 04:35:08</td>\n",
       "      <td>-25.0000</td>\n",
       "      <td>133.0000</td>\n",
       "      <td>21713.0</td>\n",
       "      <td>331.0</td>\n",
       "      <td>12144.0</td>\n",
       "      <td>9238.0</td>\n",
       "      <td>85.283801</td>\n",
       "      <td>NaN</td>\n",
       "      <td>NaN</td>\n",
       "      <td>1.524432</td>\n",
       "      <td>36</td>\n",
       "      <td>AUS</td>\n",
       "    </tr>\n",
       "    <tr>\n",
       "      <th>1</th>\n",
       "      <td>Austria</td>\n",
       "      <td>2020-08-11 04:35:08</td>\n",
       "      <td>47.5162</td>\n",
       "      <td>14.5501</td>\n",
       "      <td>22106.0</td>\n",
       "      <td>723.0</td>\n",
       "      <td>20010.0</td>\n",
       "      <td>1373.0</td>\n",
       "      <td>245.447682</td>\n",
       "      <td>NaN</td>\n",
       "      <td>NaN</td>\n",
       "      <td>3.270605</td>\n",
       "      <td>40</td>\n",
       "      <td>AUT</td>\n",
       "    </tr>\n",
       "    <tr>\n",
       "      <th>2</th>\n",
       "      <td>Canada</td>\n",
       "      <td>2020-08-11 04:35:08</td>\n",
       "      <td>60.0010</td>\n",
       "      <td>-95.0010</td>\n",
       "      <td>122053.0</td>\n",
       "      <td>9034.0</td>\n",
       "      <td>108050.0</td>\n",
       "      <td>4970.0</td>\n",
       "      <td>322.416422</td>\n",
       "      <td>NaN</td>\n",
       "      <td>NaN</td>\n",
       "      <td>7.401703</td>\n",
       "      <td>124</td>\n",
       "      <td>CAN</td>\n",
       "    </tr>\n",
       "    <tr>\n",
       "      <th>3</th>\n",
       "      <td>China</td>\n",
       "      <td>2020-08-11 04:35:08</td>\n",
       "      <td>30.5928</td>\n",
       "      <td>114.3055</td>\n",
       "      <td>88906.0</td>\n",
       "      <td>4689.0</td>\n",
       "      <td>82247.0</td>\n",
       "      <td>1970.0</td>\n",
       "      <td>6.329287</td>\n",
       "      <td>NaN</td>\n",
       "      <td>NaN</td>\n",
       "      <td>5.274110</td>\n",
       "      <td>156</td>\n",
       "      <td>CHN</td>\n",
       "    </tr>\n",
       "    <tr>\n",
       "      <th>4</th>\n",
       "      <td>Denmark</td>\n",
       "      <td>2020-08-11 04:35:08</td>\n",
       "      <td>56.2639</td>\n",
       "      <td>9.5018</td>\n",
       "      <td>15135.0</td>\n",
       "      <td>620.0</td>\n",
       "      <td>13154.0</td>\n",
       "      <td>1361.0</td>\n",
       "      <td>261.299544</td>\n",
       "      <td>NaN</td>\n",
       "      <td>NaN</td>\n",
       "      <td>4.096465</td>\n",
       "      <td>208</td>\n",
       "      <td>DNK</td>\n",
       "    </tr>\n",
       "  </tbody>\n",
       "</table>\n",
       "</div>"
      ],
      "text/plain": [
       "  Country_Region          Last_Update      Lat     Long_  Confirmed  Deaths  \\\n",
       "0      Australia  2020-08-11 04:35:08 -25.0000  133.0000    21713.0   331.0   \n",
       "1        Austria  2020-08-11 04:35:08  47.5162   14.5501    22106.0   723.0   \n",
       "2         Canada  2020-08-11 04:35:08  60.0010  -95.0010   122053.0  9034.0   \n",
       "3          China  2020-08-11 04:35:08  30.5928  114.3055    88906.0  4689.0   \n",
       "4        Denmark  2020-08-11 04:35:08  56.2639    9.5018    15135.0   620.0   \n",
       "\n",
       "   Recovered  Active  Incident_Rate  People_Tested  People_Hospitalized  \\\n",
       "0    12144.0  9238.0      85.283801            NaN                  NaN   \n",
       "1    20010.0  1373.0     245.447682            NaN                  NaN   \n",
       "2   108050.0  4970.0     322.416422            NaN                  NaN   \n",
       "3    82247.0  1970.0       6.329287            NaN                  NaN   \n",
       "4    13154.0  1361.0     261.299544            NaN                  NaN   \n",
       "\n",
       "   Mortality_Rate  UID ISO3  \n",
       "0        1.524432   36  AUS  \n",
       "1        3.270605   40  AUT  \n",
       "2        7.401703  124  CAN  \n",
       "3        5.274110  156  CHN  \n",
       "4        4.096465  208  DNK  "
      ]
     },
     "execution_count": 15,
     "metadata": {},
     "output_type": "execute_result"
    }
   ],
   "source": [
    "country_df.head(5)"
   ]
  },
  {
   "cell_type": "code",
   "execution_count": 16,
   "metadata": {},
   "outputs": [],
   "source": [
    "# data cleaning - renaming\n",
    "country_df.columns = map(str.lower, country_df.columns)\n",
    "recovered_df.columns = map(str.lower,recovered_df.columns)\n",
    "death_df.columns = map(str.lower, death_df.columns)\n",
    "confirmed_df.columns = map(str.lower,confirmed_df.columns)"
   ]
  },
  {
   "cell_type": "code",
   "execution_count": 17,
   "metadata": {},
   "outputs": [],
   "source": [
    "confirmed_df = confirmed_df.rename(columns = {'province/state':'state','country/region':'country'})\n",
    "recovered_df = recovered_df.rename(columns = {'province/state':'state','country/region':'country'})\n",
    "death_df = death_df.rename(columns = {'province/state':'state','country/region':'country'})\n",
    "country_df = country_df.rename(columns = {'country_region':'country'})\n",
    "                                            \n",
    "                                            "
   ]
  },
  {
   "cell_type": "code",
   "execution_count": 18,
   "metadata": {},
   "outputs": [],
   "source": [
    "# total number of confirmed, death and recovered cases\n",
    "confirmed_total = int(country_df['confirmed'].sum())\n",
    "deaths_total = int(country_df['deaths'].sum())\n",
    "recovered_total = int(country_df['recovered'].sum())\n",
    "active_total = int(country_df['active'].sum())"
   ]
  },
  {
   "cell_type": "code",
   "execution_count": 29,
   "metadata": {},
   "outputs": [
    {
     "data": {
      "text/html": [
       "<div style = 'background-color: #5499C7; padding: 55px; border-style = 'solid' '><span style='color: #fff; font-size:35px;font-family:serif'> Confirmed: 20089624</span><span style='color: #E74C3C; font-size:35px;margin-left:20px;font-family:serif'> Deaths: 736191</span><span style='color: #2ECC71; font-size:35px; margin-left:20px;font-family:serif'> Recovered: 12280520</span></div>"
      ],
      "text/plain": [
       "<IPython.core.display.HTML object>"
      ]
     },
     "metadata": {},
     "output_type": "display_data"
    }
   ],
   "source": [
    "# displaying the total stats\n",
    "\n",
    "display(HTML(\"<div style = 'background-color: #5499C7; padding: 55px; border-style = 'solid' '>\" +\n",
    "             \"<span style='color: #fff; font-size:35px;font-family:serif'> Confirmed: \"  + str(confirmed_total) +\"</span>\" +\n",
    "             \"<span style='color: #E74C3C; font-size:35px;margin-left:20px;font-family:serif'> Deaths: \" + str(deaths_total) + \"</span>\"+\n",
    "             \"<span style='color: #2ECC71; font-size:35px; margin-left:20px;font-family:serif'> Recovered: \" + str(recovered_total) + \"</span>\"+\n",
    "             \"</div>\")\n",
    "       )\n"
   ]
  },
  {
   "cell_type": "markdown",
   "metadata": {},
   "source": [
    "## Global Map: The Spread of Covid-19\n",
    "#### Hover your mouse on a circle to that country's case amounts"
   ]
  },
  {
   "cell_type": "code",
   "execution_count": 30,
   "metadata": {
    "scrolled": true
   },
   "outputs": [
    {
     "data": {
      "text/html": [
       "<div style=\"width:100%;\"><div style=\"position:relative;width:100%;height:0;padding-bottom:60%;\"><span style=\"color:#565656\">Make this Notebook Trusted to load map: File -> Trust Notebook</span><iframe src=\"about:blank\" style=\"position:absolute;width:100%;height:100%;left:0;top:0;border:none !important;\" data-html=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 onload=\"this.contentDocument.open();this.contentDocument.write(atob(this.getAttribute('data-html')));this.contentDocument.close();\" allowfullscreen webkitallowfullscreen mozallowfullscreen></iframe></div></div>"
      ],
      "text/plain": [
       "<folium.folium.Map at 0x7fc43ad00fd0>"
      ]
     },
     "execution_count": 30,
     "metadata": {},
     "output_type": "execute_result"
    }
   ],
   "source": [
    "world_map = folium.Map(location = [11,0], tiles = 'cartodbpositron', zoom_start = 2,\n",
    "                     max_zoom = 6, min_zoom = 2)\n",
    "\n",
    "for i in range(len(confirmed_df)):\n",
    "    folium.Circle(\n",
    "    location = [confirmed_df.iloc[i]['lat'], confirmed_df.iloc[i]['long']],\n",
    "    fill = True,\n",
    "    radius = (int((np.log(confirmed_df.iloc[i,-1]+1.00001)))+0.2) * 50000,\n",
    "    fill_color = '#3498DB',\n",
    "    color = \"red\",\n",
    "    tooltip = \"<div style='margin: 0; background-color: black; color: white;'>\"+\n",
    "                    \"<h4 style='text-align:center;font-weight: bold'>\"+confirmed_df.iloc[i]['country'] + \"</h4>\"\n",
    "                    \"<hr style='margin:10px;color: white;'>\"+\n",
    "                    \"<ul style='color: white;;list-style-type:circle;align-item:left;padding-left:20px;padding-right:20px'>\"+\n",
    "                        \"<li>Confirmed: \"+str(confirmed_df.iloc[i,-1])+\"</li>\"+\n",
    "                        \"<li>Deaths:   \"+str(death_df.iloc[i,-1])+\"</li>\"+\n",
    "                        \"<li>Death Rate: \"+ str(np.round(death_df.iloc[i,-1]/(confirmed_df.iloc[i,-1]+1.00001)*100,2))+ \"</li>\"+\n",
    "                    \"</ul></div>\",\n",
    "    ).add_to(world_map)\n",
    "\n",
    "world_map\n"
   ]
  },
  {
   "cell_type": "markdown",
   "metadata": {},
   "source": [
    "<img src=\"Covid_19Fremont.gif\" width=\"850\" align=\"center\">"
   ]
  },
  {
   "cell_type": "code",
   "execution_count": 21,
   "metadata": {},
   "outputs": [],
   "source": [
    "sorted_country_df = country_df.sort_values('confirmed', ascending = False).head(10)"
   ]
  },
  {
   "cell_type": "markdown",
   "metadata": {},
   "source": [
    "## View the details of the worst affected countries\n",
    "#### Enter the number of countries that you want data for"
   ]
  },
  {
   "cell_type": "code",
   "execution_count": 22,
   "metadata": {},
   "outputs": [
    {
     "data": {
      "application/vnd.jupyter.widget-view+json": {
       "model_id": "592949bb93864e8b9c21d2ae38a48f57",
       "version_major": 2,
       "version_minor": 0
      },
      "text/plain": [
       "interactive(children=(Text(value='10', description='number'), Output()), _dom_classes=('widget-interact',))"
      ]
     },
     "metadata": {},
     "output_type": "display_data"
    },
    {
     "data": {
      "application/vnd.jupyter.widget-view+json": {
       "model_id": "619e794413be4df6b0abf2cdde6207f0",
       "version_major": 2,
       "version_minor": 0
      },
      "text/plain": [
       "VBox(children=(FigureWidget({\n",
       "    'data': [], 'layout': {'template': '...'}\n",
       "}),), layout=Layout(border='solid …"
      ]
     },
     "metadata": {},
     "output_type": "display_data"
    }
   ],
   "source": [
    "# sorting the values by confirmed descednding order\n",
    "# country_df.sort_values('confirmed', ascending= False).head(10).style.background_gradient(cmap='copper')\n",
    "fig = go.FigureWidget( layout=go.Layout() )\n",
    "def highlight_col(x):\n",
    "    r = 'background-color: red'\n",
    "    g = 'background-color: grey'\n",
    "    gr = 'background-color: green'\n",
    "    df1 = pd.DataFrame('', index=x.index, columns=x.columns)\n",
    "    df1.iloc[:, 4] = g\n",
    "    df1.iloc[:, 5] = r\n",
    "    df1.iloc[:, 6] = gr\n",
    "    \n",
    "    return df1\n",
    "\n",
    "def show_latest_cases(number):\n",
    "    number = int(number)\n",
    "    return country_df.sort_values('confirmed', ascending= False).head(number).style.apply(highlight_col, axis=None)\n",
    "\n",
    "interact(show_latest_cases, number='10')\n",
    "\n",
    "ipywLayout = widgets.Layout(border='solid 2px green')\n",
    "ipywLayout.display='none' # uncomment this, run cell again - then the graph/figure disappears\n",
    "widgets.VBox([fig], layout=ipywLayout)"
   ]
  },
  {
   "cell_type": "markdown",
   "metadata": {},
   "source": [
    "#### Adjust the slider to the number of countries you want data for"
   ]
  },
  {
   "cell_type": "code",
   "execution_count": 23,
   "metadata": {},
   "outputs": [
    {
     "data": {
      "application/vnd.jupyter.widget-view+json": {
       "model_id": "9b6d22efeafd4c83a405976621fcaed4",
       "version_major": 2,
       "version_minor": 0
      },
      "text/plain": [
       "interactive(children=(IntSlider(value=10, description='n', max=30, min=-10), Output()), _dom_classes=('widget-…"
      ]
     },
     "metadata": {},
     "output_type": "display_data"
    },
    {
     "data": {
      "application/vnd.jupyter.widget-view+json": {
       "model_id": "839d67f49cc74778959305562ca76095",
       "version_major": 2,
       "version_minor": 0
      },
      "text/plain": [
       "VBox(children=(FigureWidget({\n",
       "    'data': [], 'layout': {'template': '...'}\n",
       "}),), layout=Layout(border='solid …"
      ]
     },
     "metadata": {},
     "output_type": "display_data"
    }
   ],
   "source": [
    "## plotting the worst hit countries\n",
    "\n",
    "def bubble_chart(n):\n",
    "    fig = px.scatter(sorted_country_df.head(n), x=\"country\", y=\"confirmed\", size=\"confirmed\", color=\"country\",\n",
    "               hover_name=\"country\", size_max=60)\n",
    "    fig.update_layout(\n",
    "    title=str(n) +\" Worst hit countries\",\n",
    "    xaxis_title=\"Countries\",\n",
    "    yaxis_title=\"Confirmed Cases\",\n",
    "    width = 1100\n",
    "    )\n",
    "    fig.show();\n",
    "\n",
    "interact(bubble_chart, n=10);\n",
    "\n",
    "ipywLayout = widgets.Layout(border='solid 2px green')\n",
    "ipywLayout.display='none'\n",
    "widgets.VBox([fig], layout=ipywLayout)"
   ]
  },
  {
   "cell_type": "markdown",
   "metadata": {},
   "source": [
    "## View the details of a specific country or the world\n",
    "#### Enter the country name and capitalize the first letter"
   ]
  },
  {
   "cell_type": "code",
   "execution_count": 24,
   "metadata": {},
   "outputs": [
    {
     "data": {
      "application/vnd.jupyter.widget-view+json": {
       "model_id": "e031bd5fdb85448da0316999edba58cf",
       "version_major": 2,
       "version_minor": 0
      },
      "text/plain": [
       "interactive(children=(Text(value='World', description='country'), Output()), _dom_classes=('widget-interact',)…"
      ]
     },
     "metadata": {},
     "output_type": "display_data"
    }
   ],
   "source": [
    "import plotly.graph_objects as go\n",
    "\n",
    "def plot_cases_for_country(country):\n",
    "    labels = ['confirmed', 'deaths']\n",
    "    colors = ['blue','red']\n",
    "    mode_size = [6,8]\n",
    "    line_size = [4,5]\n",
    "\n",
    "    df_list = [confirmed_df,death_df]\n",
    "\n",
    "    fig = go.Figure()\n",
    "\n",
    "    for i, df in enumerate(df_list):\n",
    "        if country == \"World\" or country == 'world':\n",
    "            x_data = np.array(list(df.iloc[:,5:].columns))\n",
    "            y_data = np.sum(np.asarray(df.iloc[:,5:]), axis = 0)\n",
    "            \n",
    "        else:\n",
    "            x_data = np.array(list(df.iloc[:,5:].columns))\n",
    "            y_data = np.sum(np.asarray(df[df['country']==country].iloc[:,5:]),axis = 0)\n",
    "        \n",
    "        fig.add_trace(go.Scatter(x = x_data, y = y_data, mode = 'lines+markers',\n",
    "                                name = labels[i],\n",
    "                                line = dict(color = colors[i], width = line_size[i]),\n",
    "                                connectgaps = True,\n",
    "                                text = \"Total \" + str(labels[i]) + ': ' + str(y_data[-1])\n",
    "                                ))\n",
    "    fig.show()\n",
    "        \n",
    "#plot_cases_for_country('Brazil')\n",
    "\n",
    "interact(plot_cases_for_country, country='World');\n",
    "        "
   ]
  },
  {
   "cell_type": "markdown",
   "metadata": {},
   "source": [
    "## Bar Charts: Top Ten Worst Affected Countries"
   ]
  },
  {
   "cell_type": "code",
   "execution_count": 25,
   "metadata": {
    "scrolled": false
   },
   "outputs": [
    {
     "data": {
      "application/vnd.plotly.v1+json": {
       "config": {
        "plotlyServerURL": "https://plot.ly"
       },
       "data": [
        {
         "alignmentgroup": "True",
         "hovertemplate": "country=%{x}<br>confirmed=%{y}<extra></extra>",
         "legendgroup": "",
         "marker": {
          "color": "lightgrey"
         },
         "name": "",
         "offsetgroup": "",
         "orientation": "v",
         "showlegend": false,
         "textposition": "auto",
         "type": "bar",
         "x": [
          "US",
          "Brazil",
          "India",
          "Russia",
          "South Africa",
          "Mexico",
          "Peru",
          "Colombia",
          "Chile",
          "Iran"
         ],
         "xaxis": "x",
         "y": [
          5094400,
          3057470,
          2268675,
          890799,
          563598,
          485836,
          483133,
          397623,
          375044,
          328844
         ],
         "yaxis": "y"
        }
       ],
       "layout": {
        "barmode": "relative",
        "height": 500,
        "legend": {
         "tracegroupgap": 0
        },
        "template": {
         "data": {
          "bar": [
           {
            "error_x": {
             "color": "#2a3f5f"
            },
            "error_y": {
             "color": "#2a3f5f"
            },
            "marker": {
             "line": {
              "color": "#E5ECF6",
              "width": 0.5
             }
            },
            "type": "bar"
           }
          ],
          "barpolar": [
           {
            "marker": {
             "line": {
              "color": "#E5ECF6",
              "width": 0.5
             }
            },
            "type": "barpolar"
           }
          ],
          "carpet": [
           {
            "aaxis": {
             "endlinecolor": "#2a3f5f",
             "gridcolor": "white",
             "linecolor": "white",
             "minorgridcolor": "white",
             "startlinecolor": "#2a3f5f"
            },
            "baxis": {
             "endlinecolor": "#2a3f5f",
             "gridcolor": "white",
             "linecolor": "white",
             "minorgridcolor": "white",
             "startlinecolor": "#2a3f5f"
            },
            "type": "carpet"
           }
          ],
          "choropleth": [
           {
            "colorbar": {
             "outlinewidth": 0,
             "ticks": ""
            },
            "type": "choropleth"
           }
          ],
          "contour": [
           {
            "colorbar": {
             "outlinewidth": 0,
             "ticks": ""
            },
            "colorscale": [
             [
              0,
              "#0d0887"
             ],
             [
              0.1111111111111111,
              "#46039f"
             ],
             [
              0.2222222222222222,
              "#7201a8"
             ],
             [
              0.3333333333333333,
              "#9c179e"
             ],
             [
              0.4444444444444444,
              "#bd3786"
             ],
             [
              0.5555555555555556,
              "#d8576b"
             ],
             [
              0.6666666666666666,
              "#ed7953"
             ],
             [
              0.7777777777777778,
              "#fb9f3a"
             ],
             [
              0.8888888888888888,
              "#fdca26"
             ],
             [
              1,
              "#f0f921"
             ]
            ],
            "type": "contour"
           }
          ],
          "contourcarpet": [
           {
            "colorbar": {
             "outlinewidth": 0,
             "ticks": ""
            },
            "type": "contourcarpet"
           }
          ],
          "heatmap": [
           {
            "colorbar": {
             "outlinewidth": 0,
             "ticks": ""
            },
            "colorscale": [
             [
              0,
              "#0d0887"
             ],
             [
              0.1111111111111111,
              "#46039f"
             ],
             [
              0.2222222222222222,
              "#7201a8"
             ],
             [
              0.3333333333333333,
              "#9c179e"
             ],
             [
              0.4444444444444444,
              "#bd3786"
             ],
             [
              0.5555555555555556,
              "#d8576b"
             ],
             [
              0.6666666666666666,
              "#ed7953"
             ],
             [
              0.7777777777777778,
              "#fb9f3a"
             ],
             [
              0.8888888888888888,
              "#fdca26"
             ],
             [
              1,
              "#f0f921"
             ]
            ],
            "type": "heatmap"
           }
          ],
          "heatmapgl": [
           {
            "colorbar": {
             "outlinewidth": 0,
             "ticks": ""
            },
            "colorscale": [
             [
              0,
              "#0d0887"
             ],
             [
              0.1111111111111111,
              "#46039f"
             ],
             [
              0.2222222222222222,
              "#7201a8"
             ],
             [
              0.3333333333333333,
              "#9c179e"
             ],
             [
              0.4444444444444444,
              "#bd3786"
             ],
             [
              0.5555555555555556,
              "#d8576b"
             ],
             [
              0.6666666666666666,
              "#ed7953"
             ],
             [
              0.7777777777777778,
              "#fb9f3a"
             ],
             [
              0.8888888888888888,
              "#fdca26"
             ],
             [
              1,
              "#f0f921"
             ]
            ],
            "type": "heatmapgl"
           }
          ],
          "histogram": [
           {
            "marker": {
             "colorbar": {
              "outlinewidth": 0,
              "ticks": ""
             }
            },
            "type": "histogram"
           }
          ],
          "histogram2d": [
           {
            "colorbar": {
             "outlinewidth": 0,
             "ticks": ""
            },
            "colorscale": [
             [
              0,
              "#0d0887"
             ],
             [
              0.1111111111111111,
              "#46039f"
             ],
             [
              0.2222222222222222,
              "#7201a8"
             ],
             [
              0.3333333333333333,
              "#9c179e"
             ],
             [
              0.4444444444444444,
              "#bd3786"
             ],
             [
              0.5555555555555556,
              "#d8576b"
             ],
             [
              0.6666666666666666,
              "#ed7953"
             ],
             [
              0.7777777777777778,
              "#fb9f3a"
             ],
             [
              0.8888888888888888,
              "#fdca26"
             ],
             [
              1,
              "#f0f921"
             ]
            ],
            "type": "histogram2d"
           }
          ],
          "histogram2dcontour": [
           {
            "colorbar": {
             "outlinewidth": 0,
             "ticks": ""
            },
            "colorscale": [
             [
              0,
              "#0d0887"
             ],
             [
              0.1111111111111111,
              "#46039f"
             ],
             [
              0.2222222222222222,
              "#7201a8"
             ],
             [
              0.3333333333333333,
              "#9c179e"
             ],
             [
              0.4444444444444444,
              "#bd3786"
             ],
             [
              0.5555555555555556,
              "#d8576b"
             ],
             [
              0.6666666666666666,
              "#ed7953"
             ],
             [
              0.7777777777777778,
              "#fb9f3a"
             ],
             [
              0.8888888888888888,
              "#fdca26"
             ],
             [
              1,
              "#f0f921"
             ]
            ],
            "type": "histogram2dcontour"
           }
          ],
          "mesh3d": [
           {
            "colorbar": {
             "outlinewidth": 0,
             "ticks": ""
            },
            "type": "mesh3d"
           }
          ],
          "parcoords": [
           {
            "line": {
             "colorbar": {
              "outlinewidth": 0,
              "ticks": ""
             }
            },
            "type": "parcoords"
           }
          ],
          "pie": [
           {
            "automargin": true,
            "type": "pie"
           }
          ],
          "scatter": [
           {
            "marker": {
             "colorbar": {
              "outlinewidth": 0,
              "ticks": ""
             }
            },
            "type": "scatter"
           }
          ],
          "scatter3d": [
           {
            "line": {
             "colorbar": {
              "outlinewidth": 0,
              "ticks": ""
             }
            },
            "marker": {
             "colorbar": {
              "outlinewidth": 0,
              "ticks": ""
             }
            },
            "type": "scatter3d"
           }
          ],
          "scattercarpet": [
           {
            "marker": {
             "colorbar": {
              "outlinewidth": 0,
              "ticks": ""
             }
            },
            "type": "scattercarpet"
           }
          ],
          "scattergeo": [
           {
            "marker": {
             "colorbar": {
              "outlinewidth": 0,
              "ticks": ""
             }
            },
            "type": "scattergeo"
           }
          ],
          "scattergl": [
           {
            "marker": {
             "colorbar": {
              "outlinewidth": 0,
              "ticks": ""
             }
            },
            "type": "scattergl"
           }
          ],
          "scattermapbox": [
           {
            "marker": {
             "colorbar": {
              "outlinewidth": 0,
              "ticks": ""
             }
            },
            "type": "scattermapbox"
           }
          ],
          "scatterpolar": [
           {
            "marker": {
             "colorbar": {
              "outlinewidth": 0,
              "ticks": ""
             }
            },
            "type": "scatterpolar"
           }
          ],
          "scatterpolargl": [
           {
            "marker": {
             "colorbar": {
              "outlinewidth": 0,
              "ticks": ""
             }
            },
            "type": "scatterpolargl"
           }
          ],
          "scatterternary": [
           {
            "marker": {
             "colorbar": {
              "outlinewidth": 0,
              "ticks": ""
             }
            },
            "type": "scatterternary"
           }
          ],
          "surface": [
           {
            "colorbar": {
             "outlinewidth": 0,
             "ticks": ""
            },
            "colorscale": [
             [
              0,
              "#0d0887"
             ],
             [
              0.1111111111111111,
              "#46039f"
             ],
             [
              0.2222222222222222,
              "#7201a8"
             ],
             [
              0.3333333333333333,
              "#9c179e"
             ],
             [
              0.4444444444444444,
              "#bd3786"
             ],
             [
              0.5555555555555556,
              "#d8576b"
             ],
             [
              0.6666666666666666,
              "#ed7953"
             ],
             [
              0.7777777777777778,
              "#fb9f3a"
             ],
             [
              0.8888888888888888,
              "#fdca26"
             ],
             [
              1,
              "#f0f921"
             ]
            ],
            "type": "surface"
           }
          ],
          "table": [
           {
            "cells": {
             "fill": {
              "color": "#EBF0F8"
             },
             "line": {
              "color": "white"
             }
            },
            "header": {
             "fill": {
              "color": "#C8D4E3"
             },
             "line": {
              "color": "white"
             }
            },
            "type": "table"
           }
          ]
         },
         "layout": {
          "annotationdefaults": {
           "arrowcolor": "#2a3f5f",
           "arrowhead": 0,
           "arrowwidth": 1
          },
          "coloraxis": {
           "colorbar": {
            "outlinewidth": 0,
            "ticks": ""
           }
          },
          "colorscale": {
           "diverging": [
            [
             0,
             "#8e0152"
            ],
            [
             0.1,
             "#c51b7d"
            ],
            [
             0.2,
             "#de77ae"
            ],
            [
             0.3,
             "#f1b6da"
            ],
            [
             0.4,
             "#fde0ef"
            ],
            [
             0.5,
             "#f7f7f7"
            ],
            [
             0.6,
             "#e6f5d0"
            ],
            [
             0.7,
             "#b8e186"
            ],
            [
             0.8,
             "#7fbc41"
            ],
            [
             0.9,
             "#4d9221"
            ],
            [
             1,
             "#276419"
            ]
           ],
           "sequential": [
            [
             0,
             "#0d0887"
            ],
            [
             0.1111111111111111,
             "#46039f"
            ],
            [
             0.2222222222222222,
             "#7201a8"
            ],
            [
             0.3333333333333333,
             "#9c179e"
            ],
            [
             0.4444444444444444,
             "#bd3786"
            ],
            [
             0.5555555555555556,
             "#d8576b"
            ],
            [
             0.6666666666666666,
             "#ed7953"
            ],
            [
             0.7777777777777778,
             "#fb9f3a"
            ],
            [
             0.8888888888888888,
             "#fdca26"
            ],
            [
             1,
             "#f0f921"
            ]
           ],
           "sequentialminus": [
            [
             0,
             "#0d0887"
            ],
            [
             0.1111111111111111,
             "#46039f"
            ],
            [
             0.2222222222222222,
             "#7201a8"
            ],
            [
             0.3333333333333333,
             "#9c179e"
            ],
            [
             0.4444444444444444,
             "#bd3786"
            ],
            [
             0.5555555555555556,
             "#d8576b"
            ],
            [
             0.6666666666666666,
             "#ed7953"
            ],
            [
             0.7777777777777778,
             "#fb9f3a"
            ],
            [
             0.8888888888888888,
             "#fdca26"
            ],
            [
             1,
             "#f0f921"
            ]
           ]
          },
          "colorway": [
           "#636efa",
           "#EF553B",
           "#00cc96",
           "#ab63fa",
           "#FFA15A",
           "#19d3f3",
           "#FF6692",
           "#B6E880",
           "#FF97FF",
           "#FECB52"
          ],
          "font": {
           "color": "#2a3f5f"
          },
          "geo": {
           "bgcolor": "white",
           "lakecolor": "white",
           "landcolor": "#E5ECF6",
           "showlakes": true,
           "showland": true,
           "subunitcolor": "white"
          },
          "hoverlabel": {
           "align": "left"
          },
          "hovermode": "closest",
          "mapbox": {
           "style": "light"
          },
          "paper_bgcolor": "white",
          "plot_bgcolor": "#E5ECF6",
          "polar": {
           "angularaxis": {
            "gridcolor": "white",
            "linecolor": "white",
            "ticks": ""
           },
           "bgcolor": "#E5ECF6",
           "radialaxis": {
            "gridcolor": "white",
            "linecolor": "white",
            "ticks": ""
           }
          },
          "scene": {
           "xaxis": {
            "backgroundcolor": "#E5ECF6",
            "gridcolor": "white",
            "gridwidth": 2,
            "linecolor": "white",
            "showbackground": true,
            "ticks": "",
            "zerolinecolor": "white"
           },
           "yaxis": {
            "backgroundcolor": "#E5ECF6",
            "gridcolor": "white",
            "gridwidth": 2,
            "linecolor": "white",
            "showbackground": true,
            "ticks": "",
            "zerolinecolor": "white"
           },
           "zaxis": {
            "backgroundcolor": "#E5ECF6",
            "gridcolor": "white",
            "gridwidth": 2,
            "linecolor": "white",
            "showbackground": true,
            "ticks": "",
            "zerolinecolor": "white"
           }
          },
          "shapedefaults": {
           "line": {
            "color": "#2a3f5f"
           }
          },
          "ternary": {
           "aaxis": {
            "gridcolor": "white",
            "linecolor": "white",
            "ticks": ""
           },
           "baxis": {
            "gridcolor": "white",
            "linecolor": "white",
            "ticks": ""
           },
           "bgcolor": "#E5ECF6",
           "caxis": {
            "gridcolor": "white",
            "linecolor": "white",
            "ticks": ""
           }
          },
          "title": {
           "x": 0.05
          },
          "xaxis": {
           "automargin": true,
           "gridcolor": "white",
           "linecolor": "white",
           "ticks": "",
           "title": {
            "standoff": 15
           },
           "zerolinecolor": "white",
           "zerolinewidth": 2
          },
          "yaxis": {
           "automargin": true,
           "gridcolor": "white",
           "linecolor": "white",
           "ticks": "",
           "title": {
            "standoff": 15
           },
           "zerolinecolor": "white",
           "zerolinewidth": 2
          }
         }
        },
        "title": {
         "text": "Confirmed Cases"
        },
        "width": 800,
        "xaxis": {
         "anchor": "y",
         "domain": [
          0,
          1
         ],
         "title": {
          "text": "country"
         }
        },
        "yaxis": {
         "anchor": "x",
         "domain": [
          0,
          1
         ],
         "title": {
          "text": "confirmed"
         }
        }
       }
      },
      "text/html": [
       "<div>\n",
       "        \n",
       "        \n",
       "            <div id=\"2e7bf5de-9496-4c86-9247-3c971819ea39\" class=\"plotly-graph-div\" style=\"height:500px; width:800px;\"></div>\n",
       "            <script type=\"text/javascript\">\n",
       "                require([\"plotly\"], function(Plotly) {\n",
       "                    window.PLOTLYENV=window.PLOTLYENV || {};\n",
       "                    \n",
       "                if (document.getElementById(\"2e7bf5de-9496-4c86-9247-3c971819ea39\")) {\n",
       "                    Plotly.newPlot(\n",
       "                        '2e7bf5de-9496-4c86-9247-3c971819ea39',\n",
       "                        [{\"alignmentgroup\": \"True\", \"hovertemplate\": \"country=%{x}<br>confirmed=%{y}<extra></extra>\", \"legendgroup\": \"\", \"marker\": {\"color\": \"lightgrey\"}, \"name\": \"\", \"offsetgroup\": \"\", \"orientation\": \"v\", \"showlegend\": false, \"textposition\": \"auto\", \"type\": \"bar\", \"x\": [\"US\", \"Brazil\", \"India\", \"Russia\", \"South Africa\", \"Mexico\", \"Peru\", \"Colombia\", \"Chile\", \"Iran\"], \"xaxis\": \"x\", \"y\": [5094400.0, 3057470.0, 2268675.0, 890799.0, 563598.0, 485836.0, 483133.0, 397623.0, 375044.0, 328844.0], \"yaxis\": \"y\"}],\n",
       "                        {\"barmode\": \"relative\", \"height\": 500, \"legend\": {\"tracegroupgap\": 0}, \"template\": {\"data\": {\"bar\": [{\"error_x\": {\"color\": \"#2a3f5f\"}, \"error_y\": {\"color\": \"#2a3f5f\"}, \"marker\": {\"line\": {\"color\": \"#E5ECF6\", \"width\": 0.5}}, \"type\": \"bar\"}], \"barpolar\": [{\"marker\": {\"line\": {\"color\": \"#E5ECF6\", \"width\": 0.5}}, \"type\": \"barpolar\"}], \"carpet\": [{\"aaxis\": {\"endlinecolor\": \"#2a3f5f\", \"gridcolor\": \"white\", \"linecolor\": \"white\", \"minorgridcolor\": \"white\", \"startlinecolor\": \"#2a3f5f\"}, \"baxis\": {\"endlinecolor\": \"#2a3f5f\", \"gridcolor\": \"white\", \"linecolor\": \"white\", \"minorgridcolor\": \"white\", \"startlinecolor\": \"#2a3f5f\"}, \"type\": \"carpet\"}], \"choropleth\": [{\"colorbar\": {\"outlinewidth\": 0, \"ticks\": \"\"}, \"type\": \"choropleth\"}], \"contour\": [{\"colorbar\": {\"outlinewidth\": 0, \"ticks\": \"\"}, \"colorscale\": [[0.0, \"#0d0887\"], [0.1111111111111111, \"#46039f\"], [0.2222222222222222, \"#7201a8\"], [0.3333333333333333, \"#9c179e\"], [0.4444444444444444, \"#bd3786\"], [0.5555555555555556, \"#d8576b\"], [0.6666666666666666, \"#ed7953\"], [0.7777777777777778, \"#fb9f3a\"], [0.8888888888888888, \"#fdca26\"], [1.0, \"#f0f921\"]], \"type\": \"contour\"}], \"contourcarpet\": [{\"colorbar\": {\"outlinewidth\": 0, \"ticks\": \"\"}, \"type\": \"contourcarpet\"}], \"heatmap\": [{\"colorbar\": {\"outlinewidth\": 0, \"ticks\": \"\"}, \"colorscale\": [[0.0, \"#0d0887\"], [0.1111111111111111, \"#46039f\"], [0.2222222222222222, \"#7201a8\"], [0.3333333333333333, \"#9c179e\"], [0.4444444444444444, \"#bd3786\"], [0.5555555555555556, \"#d8576b\"], [0.6666666666666666, \"#ed7953\"], [0.7777777777777778, \"#fb9f3a\"], [0.8888888888888888, \"#fdca26\"], [1.0, \"#f0f921\"]], \"type\": \"heatmap\"}], \"heatmapgl\": [{\"colorbar\": {\"outlinewidth\": 0, \"ticks\": \"\"}, \"colorscale\": [[0.0, \"#0d0887\"], [0.1111111111111111, \"#46039f\"], [0.2222222222222222, \"#7201a8\"], [0.3333333333333333, \"#9c179e\"], [0.4444444444444444, \"#bd3786\"], [0.5555555555555556, \"#d8576b\"], [0.6666666666666666, \"#ed7953\"], [0.7777777777777778, \"#fb9f3a\"], [0.8888888888888888, \"#fdca26\"], [1.0, \"#f0f921\"]], \"type\": \"heatmapgl\"}], \"histogram\": [{\"marker\": {\"colorbar\": {\"outlinewidth\": 0, \"ticks\": \"\"}}, \"type\": \"histogram\"}], \"histogram2d\": [{\"colorbar\": {\"outlinewidth\": 0, \"ticks\": \"\"}, \"colorscale\": [[0.0, \"#0d0887\"], [0.1111111111111111, \"#46039f\"], [0.2222222222222222, \"#7201a8\"], [0.3333333333333333, \"#9c179e\"], [0.4444444444444444, \"#bd3786\"], [0.5555555555555556, \"#d8576b\"], [0.6666666666666666, \"#ed7953\"], [0.7777777777777778, \"#fb9f3a\"], [0.8888888888888888, \"#fdca26\"], [1.0, \"#f0f921\"]], \"type\": \"histogram2d\"}], \"histogram2dcontour\": [{\"colorbar\": {\"outlinewidth\": 0, \"ticks\": \"\"}, \"colorscale\": [[0.0, \"#0d0887\"], [0.1111111111111111, \"#46039f\"], [0.2222222222222222, \"#7201a8\"], [0.3333333333333333, \"#9c179e\"], [0.4444444444444444, \"#bd3786\"], [0.5555555555555556, \"#d8576b\"], [0.6666666666666666, \"#ed7953\"], [0.7777777777777778, \"#fb9f3a\"], [0.8888888888888888, \"#fdca26\"], [1.0, \"#f0f921\"]], \"type\": \"histogram2dcontour\"}], \"mesh3d\": [{\"colorbar\": {\"outlinewidth\": 0, \"ticks\": \"\"}, \"type\": \"mesh3d\"}], \"parcoords\": [{\"line\": {\"colorbar\": {\"outlinewidth\": 0, \"ticks\": \"\"}}, \"type\": \"parcoords\"}], \"pie\": [{\"automargin\": true, \"type\": \"pie\"}], \"scatter\": [{\"marker\": {\"colorbar\": {\"outlinewidth\": 0, \"ticks\": \"\"}}, \"type\": \"scatter\"}], \"scatter3d\": [{\"line\": {\"colorbar\": {\"outlinewidth\": 0, \"ticks\": \"\"}}, \"marker\": {\"colorbar\": {\"outlinewidth\": 0, \"ticks\": \"\"}}, \"type\": \"scatter3d\"}], \"scattercarpet\": [{\"marker\": {\"colorbar\": {\"outlinewidth\": 0, \"ticks\": \"\"}}, \"type\": \"scattercarpet\"}], \"scattergeo\": [{\"marker\": {\"colorbar\": {\"outlinewidth\": 0, \"ticks\": \"\"}}, \"type\": \"scattergeo\"}], \"scattergl\": [{\"marker\": {\"colorbar\": {\"outlinewidth\": 0, \"ticks\": \"\"}}, \"type\": \"scattergl\"}], \"scattermapbox\": [{\"marker\": {\"colorbar\": {\"outlinewidth\": 0, \"ticks\": \"\"}}, \"type\": \"scattermapbox\"}], \"scatterpolar\": [{\"marker\": {\"colorbar\": {\"outlinewidth\": 0, \"ticks\": \"\"}}, \"type\": \"scatterpolar\"}], \"scatterpolargl\": [{\"marker\": {\"colorbar\": {\"outlinewidth\": 0, \"ticks\": \"\"}}, \"type\": \"scatterpolargl\"}], \"scatterternary\": [{\"marker\": {\"colorbar\": {\"outlinewidth\": 0, \"ticks\": \"\"}}, \"type\": \"scatterternary\"}], \"surface\": [{\"colorbar\": {\"outlinewidth\": 0, \"ticks\": \"\"}, \"colorscale\": [[0.0, \"#0d0887\"], [0.1111111111111111, \"#46039f\"], [0.2222222222222222, \"#7201a8\"], [0.3333333333333333, \"#9c179e\"], [0.4444444444444444, \"#bd3786\"], [0.5555555555555556, \"#d8576b\"], [0.6666666666666666, \"#ed7953\"], [0.7777777777777778, \"#fb9f3a\"], [0.8888888888888888, \"#fdca26\"], [1.0, \"#f0f921\"]], \"type\": \"surface\"}], \"table\": [{\"cells\": {\"fill\": {\"color\": \"#EBF0F8\"}, \"line\": {\"color\": \"white\"}}, \"header\": {\"fill\": {\"color\": \"#C8D4E3\"}, \"line\": {\"color\": \"white\"}}, \"type\": \"table\"}]}, \"layout\": {\"annotationdefaults\": {\"arrowcolor\": \"#2a3f5f\", \"arrowhead\": 0, \"arrowwidth\": 1}, \"coloraxis\": {\"colorbar\": {\"outlinewidth\": 0, \"ticks\": \"\"}}, \"colorscale\": {\"diverging\": [[0, \"#8e0152\"], [0.1, \"#c51b7d\"], [0.2, \"#de77ae\"], [0.3, \"#f1b6da\"], [0.4, \"#fde0ef\"], [0.5, \"#f7f7f7\"], [0.6, \"#e6f5d0\"], [0.7, \"#b8e186\"], [0.8, \"#7fbc41\"], [0.9, \"#4d9221\"], [1, \"#276419\"]], \"sequential\": [[0.0, \"#0d0887\"], [0.1111111111111111, \"#46039f\"], [0.2222222222222222, \"#7201a8\"], [0.3333333333333333, \"#9c179e\"], [0.4444444444444444, \"#bd3786\"], [0.5555555555555556, \"#d8576b\"], [0.6666666666666666, \"#ed7953\"], [0.7777777777777778, \"#fb9f3a\"], [0.8888888888888888, \"#fdca26\"], [1.0, \"#f0f921\"]], \"sequentialminus\": [[0.0, \"#0d0887\"], [0.1111111111111111, \"#46039f\"], [0.2222222222222222, \"#7201a8\"], [0.3333333333333333, \"#9c179e\"], [0.4444444444444444, \"#bd3786\"], [0.5555555555555556, \"#d8576b\"], [0.6666666666666666, \"#ed7953\"], [0.7777777777777778, \"#fb9f3a\"], [0.8888888888888888, \"#fdca26\"], [1.0, \"#f0f921\"]]}, \"colorway\": [\"#636efa\", \"#EF553B\", \"#00cc96\", \"#ab63fa\", \"#FFA15A\", \"#19d3f3\", \"#FF6692\", \"#B6E880\", \"#FF97FF\", \"#FECB52\"], \"font\": {\"color\": \"#2a3f5f\"}, \"geo\": {\"bgcolor\": \"white\", \"lakecolor\": \"white\", \"landcolor\": \"#E5ECF6\", \"showlakes\": true, \"showland\": true, \"subunitcolor\": \"white\"}, \"hoverlabel\": {\"align\": \"left\"}, \"hovermode\": \"closest\", \"mapbox\": {\"style\": \"light\"}, \"paper_bgcolor\": \"white\", \"plot_bgcolor\": \"#E5ECF6\", \"polar\": {\"angularaxis\": {\"gridcolor\": \"white\", \"linecolor\": \"white\", \"ticks\": \"\"}, \"bgcolor\": \"#E5ECF6\", \"radialaxis\": {\"gridcolor\": \"white\", \"linecolor\": \"white\", \"ticks\": \"\"}}, \"scene\": {\"xaxis\": {\"backgroundcolor\": \"#E5ECF6\", \"gridcolor\": \"white\", \"gridwidth\": 2, \"linecolor\": \"white\", \"showbackground\": true, \"ticks\": \"\", \"zerolinecolor\": \"white\"}, \"yaxis\": {\"backgroundcolor\": \"#E5ECF6\", \"gridcolor\": \"white\", \"gridwidth\": 2, \"linecolor\": \"white\", \"showbackground\": true, \"ticks\": \"\", \"zerolinecolor\": \"white\"}, \"zaxis\": {\"backgroundcolor\": \"#E5ECF6\", \"gridcolor\": \"white\", \"gridwidth\": 2, \"linecolor\": \"white\", \"showbackground\": true, \"ticks\": \"\", \"zerolinecolor\": \"white\"}}, \"shapedefaults\": {\"line\": {\"color\": \"#2a3f5f\"}}, \"ternary\": {\"aaxis\": {\"gridcolor\": \"white\", \"linecolor\": \"white\", \"ticks\": \"\"}, \"baxis\": {\"gridcolor\": \"white\", \"linecolor\": \"white\", \"ticks\": \"\"}, \"bgcolor\": \"#E5ECF6\", \"caxis\": {\"gridcolor\": \"white\", \"linecolor\": \"white\", \"ticks\": \"\"}}, \"title\": {\"x\": 0.05}, \"xaxis\": {\"automargin\": true, \"gridcolor\": \"white\", \"linecolor\": \"white\", \"ticks\": \"\", \"title\": {\"standoff\": 15}, \"zerolinecolor\": \"white\", \"zerolinewidth\": 2}, \"yaxis\": {\"automargin\": true, \"gridcolor\": \"white\", \"linecolor\": \"white\", \"ticks\": \"\", \"title\": {\"standoff\": 15}, \"zerolinecolor\": \"white\", \"zerolinewidth\": 2}}}, \"title\": {\"text\": \"Confirmed Cases\"}, \"width\": 800, \"xaxis\": {\"anchor\": \"y\", \"domain\": [0.0, 1.0], \"title\": {\"text\": \"country\"}}, \"yaxis\": {\"anchor\": \"x\", \"domain\": [0.0, 1.0], \"title\": {\"text\": \"confirmed\"}}},\n",
       "                        {\"responsive\": true}\n",
       "                    ).then(function(){\n",
       "                            \n",
       "var gd = document.getElementById('2e7bf5de-9496-4c86-9247-3c971819ea39');\n",
       "var x = new MutationObserver(function (mutations, observer) {{\n",
       "        var display = window.getComputedStyle(gd).display;\n",
       "        if (!display || display === 'none') {{\n",
       "            console.log([gd, 'removed!']);\n",
       "            Plotly.purge(gd);\n",
       "            observer.disconnect();\n",
       "        }}\n",
       "}});\n",
       "\n",
       "// Listen for the removal of the full notebook cells\n",
       "var notebookContainer = gd.closest('#notebook-container');\n",
       "if (notebookContainer) {{\n",
       "    x.observe(notebookContainer, {childList: true});\n",
       "}}\n",
       "\n",
       "// Listen for the clearing of the current output cell\n",
       "var outputEl = gd.closest('.output');\n",
       "if (outputEl) {{\n",
       "    x.observe(outputEl, {childList: true});\n",
       "}}\n",
       "\n",
       "                        })\n",
       "                };\n",
       "                });\n",
       "            </script>\n",
       "        </div>"
      ]
     },
     "metadata": {},
     "output_type": "display_data"
    }
   ],
   "source": [
    "px.bar(\n",
    "    sorted_country_df.head(10),\n",
    "    x = \"country\",\n",
    "    y = \"confirmed\",\n",
    "    title= \"Confirmed Cases\", # the axis names\n",
    "    color_discrete_sequence=[\"lightgrey\"], \n",
    "    height=500,\n",
    "    width=800\n",
    ")"
   ]
  },
  {
   "cell_type": "code",
   "execution_count": 26,
   "metadata": {},
   "outputs": [
    {
     "data": {
      "application/vnd.plotly.v1+json": {
       "config": {
        "plotlyServerURL": "https://plot.ly"
       },
       "data": [
        {
         "alignmentgroup": "True",
         "hovertemplate": "country=%{x}<br>deaths=%{y}<extra></extra>",
         "legendgroup": "",
         "marker": {
          "color": "pink"
         },
         "name": "",
         "offsetgroup": "",
         "orientation": "v",
         "showlegend": false,
         "textposition": "auto",
         "type": "bar",
         "x": [
          "US",
          "Brazil",
          "India",
          "Russia",
          "South Africa",
          "Mexico",
          "Peru",
          "Colombia",
          "Chile",
          "Iran"
         ],
         "xaxis": "x",
         "y": [
          163463,
          101752,
          45257,
          14973,
          10621,
          53003,
          21276,
          13154,
          10139,
          18616
         ],
         "yaxis": "y"
        }
       ],
       "layout": {
        "barmode": "relative",
        "height": 500,
        "legend": {
         "tracegroupgap": 0
        },
        "template": {
         "data": {
          "bar": [
           {
            "error_x": {
             "color": "#2a3f5f"
            },
            "error_y": {
             "color": "#2a3f5f"
            },
            "marker": {
             "line": {
              "color": "#E5ECF6",
              "width": 0.5
             }
            },
            "type": "bar"
           }
          ],
          "barpolar": [
           {
            "marker": {
             "line": {
              "color": "#E5ECF6",
              "width": 0.5
             }
            },
            "type": "barpolar"
           }
          ],
          "carpet": [
           {
            "aaxis": {
             "endlinecolor": "#2a3f5f",
             "gridcolor": "white",
             "linecolor": "white",
             "minorgridcolor": "white",
             "startlinecolor": "#2a3f5f"
            },
            "baxis": {
             "endlinecolor": "#2a3f5f",
             "gridcolor": "white",
             "linecolor": "white",
             "minorgridcolor": "white",
             "startlinecolor": "#2a3f5f"
            },
            "type": "carpet"
           }
          ],
          "choropleth": [
           {
            "colorbar": {
             "outlinewidth": 0,
             "ticks": ""
            },
            "type": "choropleth"
           }
          ],
          "contour": [
           {
            "colorbar": {
             "outlinewidth": 0,
             "ticks": ""
            },
            "colorscale": [
             [
              0,
              "#0d0887"
             ],
             [
              0.1111111111111111,
              "#46039f"
             ],
             [
              0.2222222222222222,
              "#7201a8"
             ],
             [
              0.3333333333333333,
              "#9c179e"
             ],
             [
              0.4444444444444444,
              "#bd3786"
             ],
             [
              0.5555555555555556,
              "#d8576b"
             ],
             [
              0.6666666666666666,
              "#ed7953"
             ],
             [
              0.7777777777777778,
              "#fb9f3a"
             ],
             [
              0.8888888888888888,
              "#fdca26"
             ],
             [
              1,
              "#f0f921"
             ]
            ],
            "type": "contour"
           }
          ],
          "contourcarpet": [
           {
            "colorbar": {
             "outlinewidth": 0,
             "ticks": ""
            },
            "type": "contourcarpet"
           }
          ],
          "heatmap": [
           {
            "colorbar": {
             "outlinewidth": 0,
             "ticks": ""
            },
            "colorscale": [
             [
              0,
              "#0d0887"
             ],
             [
              0.1111111111111111,
              "#46039f"
             ],
             [
              0.2222222222222222,
              "#7201a8"
             ],
             [
              0.3333333333333333,
              "#9c179e"
             ],
             [
              0.4444444444444444,
              "#bd3786"
             ],
             [
              0.5555555555555556,
              "#d8576b"
             ],
             [
              0.6666666666666666,
              "#ed7953"
             ],
             [
              0.7777777777777778,
              "#fb9f3a"
             ],
             [
              0.8888888888888888,
              "#fdca26"
             ],
             [
              1,
              "#f0f921"
             ]
            ],
            "type": "heatmap"
           }
          ],
          "heatmapgl": [
           {
            "colorbar": {
             "outlinewidth": 0,
             "ticks": ""
            },
            "colorscale": [
             [
              0,
              "#0d0887"
             ],
             [
              0.1111111111111111,
              "#46039f"
             ],
             [
              0.2222222222222222,
              "#7201a8"
             ],
             [
              0.3333333333333333,
              "#9c179e"
             ],
             [
              0.4444444444444444,
              "#bd3786"
             ],
             [
              0.5555555555555556,
              "#d8576b"
             ],
             [
              0.6666666666666666,
              "#ed7953"
             ],
             [
              0.7777777777777778,
              "#fb9f3a"
             ],
             [
              0.8888888888888888,
              "#fdca26"
             ],
             [
              1,
              "#f0f921"
             ]
            ],
            "type": "heatmapgl"
           }
          ],
          "histogram": [
           {
            "marker": {
             "colorbar": {
              "outlinewidth": 0,
              "ticks": ""
             }
            },
            "type": "histogram"
           }
          ],
          "histogram2d": [
           {
            "colorbar": {
             "outlinewidth": 0,
             "ticks": ""
            },
            "colorscale": [
             [
              0,
              "#0d0887"
             ],
             [
              0.1111111111111111,
              "#46039f"
             ],
             [
              0.2222222222222222,
              "#7201a8"
             ],
             [
              0.3333333333333333,
              "#9c179e"
             ],
             [
              0.4444444444444444,
              "#bd3786"
             ],
             [
              0.5555555555555556,
              "#d8576b"
             ],
             [
              0.6666666666666666,
              "#ed7953"
             ],
             [
              0.7777777777777778,
              "#fb9f3a"
             ],
             [
              0.8888888888888888,
              "#fdca26"
             ],
             [
              1,
              "#f0f921"
             ]
            ],
            "type": "histogram2d"
           }
          ],
          "histogram2dcontour": [
           {
            "colorbar": {
             "outlinewidth": 0,
             "ticks": ""
            },
            "colorscale": [
             [
              0,
              "#0d0887"
             ],
             [
              0.1111111111111111,
              "#46039f"
             ],
             [
              0.2222222222222222,
              "#7201a8"
             ],
             [
              0.3333333333333333,
              "#9c179e"
             ],
             [
              0.4444444444444444,
              "#bd3786"
             ],
             [
              0.5555555555555556,
              "#d8576b"
             ],
             [
              0.6666666666666666,
              "#ed7953"
             ],
             [
              0.7777777777777778,
              "#fb9f3a"
             ],
             [
              0.8888888888888888,
              "#fdca26"
             ],
             [
              1,
              "#f0f921"
             ]
            ],
            "type": "histogram2dcontour"
           }
          ],
          "mesh3d": [
           {
            "colorbar": {
             "outlinewidth": 0,
             "ticks": ""
            },
            "type": "mesh3d"
           }
          ],
          "parcoords": [
           {
            "line": {
             "colorbar": {
              "outlinewidth": 0,
              "ticks": ""
             }
            },
            "type": "parcoords"
           }
          ],
          "pie": [
           {
            "automargin": true,
            "type": "pie"
           }
          ],
          "scatter": [
           {
            "marker": {
             "colorbar": {
              "outlinewidth": 0,
              "ticks": ""
             }
            },
            "type": "scatter"
           }
          ],
          "scatter3d": [
           {
            "line": {
             "colorbar": {
              "outlinewidth": 0,
              "ticks": ""
             }
            },
            "marker": {
             "colorbar": {
              "outlinewidth": 0,
              "ticks": ""
             }
            },
            "type": "scatter3d"
           }
          ],
          "scattercarpet": [
           {
            "marker": {
             "colorbar": {
              "outlinewidth": 0,
              "ticks": ""
             }
            },
            "type": "scattercarpet"
           }
          ],
          "scattergeo": [
           {
            "marker": {
             "colorbar": {
              "outlinewidth": 0,
              "ticks": ""
             }
            },
            "type": "scattergeo"
           }
          ],
          "scattergl": [
           {
            "marker": {
             "colorbar": {
              "outlinewidth": 0,
              "ticks": ""
             }
            },
            "type": "scattergl"
           }
          ],
          "scattermapbox": [
           {
            "marker": {
             "colorbar": {
              "outlinewidth": 0,
              "ticks": ""
             }
            },
            "type": "scattermapbox"
           }
          ],
          "scatterpolar": [
           {
            "marker": {
             "colorbar": {
              "outlinewidth": 0,
              "ticks": ""
             }
            },
            "type": "scatterpolar"
           }
          ],
          "scatterpolargl": [
           {
            "marker": {
             "colorbar": {
              "outlinewidth": 0,
              "ticks": ""
             }
            },
            "type": "scatterpolargl"
           }
          ],
          "scatterternary": [
           {
            "marker": {
             "colorbar": {
              "outlinewidth": 0,
              "ticks": ""
             }
            },
            "type": "scatterternary"
           }
          ],
          "surface": [
           {
            "colorbar": {
             "outlinewidth": 0,
             "ticks": ""
            },
            "colorscale": [
             [
              0,
              "#0d0887"
             ],
             [
              0.1111111111111111,
              "#46039f"
             ],
             [
              0.2222222222222222,
              "#7201a8"
             ],
             [
              0.3333333333333333,
              "#9c179e"
             ],
             [
              0.4444444444444444,
              "#bd3786"
             ],
             [
              0.5555555555555556,
              "#d8576b"
             ],
             [
              0.6666666666666666,
              "#ed7953"
             ],
             [
              0.7777777777777778,
              "#fb9f3a"
             ],
             [
              0.8888888888888888,
              "#fdca26"
             ],
             [
              1,
              "#f0f921"
             ]
            ],
            "type": "surface"
           }
          ],
          "table": [
           {
            "cells": {
             "fill": {
              "color": "#EBF0F8"
             },
             "line": {
              "color": "white"
             }
            },
            "header": {
             "fill": {
              "color": "#C8D4E3"
             },
             "line": {
              "color": "white"
             }
            },
            "type": "table"
           }
          ]
         },
         "layout": {
          "annotationdefaults": {
           "arrowcolor": "#2a3f5f",
           "arrowhead": 0,
           "arrowwidth": 1
          },
          "coloraxis": {
           "colorbar": {
            "outlinewidth": 0,
            "ticks": ""
           }
          },
          "colorscale": {
           "diverging": [
            [
             0,
             "#8e0152"
            ],
            [
             0.1,
             "#c51b7d"
            ],
            [
             0.2,
             "#de77ae"
            ],
            [
             0.3,
             "#f1b6da"
            ],
            [
             0.4,
             "#fde0ef"
            ],
            [
             0.5,
             "#f7f7f7"
            ],
            [
             0.6,
             "#e6f5d0"
            ],
            [
             0.7,
             "#b8e186"
            ],
            [
             0.8,
             "#7fbc41"
            ],
            [
             0.9,
             "#4d9221"
            ],
            [
             1,
             "#276419"
            ]
           ],
           "sequential": [
            [
             0,
             "#0d0887"
            ],
            [
             0.1111111111111111,
             "#46039f"
            ],
            [
             0.2222222222222222,
             "#7201a8"
            ],
            [
             0.3333333333333333,
             "#9c179e"
            ],
            [
             0.4444444444444444,
             "#bd3786"
            ],
            [
             0.5555555555555556,
             "#d8576b"
            ],
            [
             0.6666666666666666,
             "#ed7953"
            ],
            [
             0.7777777777777778,
             "#fb9f3a"
            ],
            [
             0.8888888888888888,
             "#fdca26"
            ],
            [
             1,
             "#f0f921"
            ]
           ],
           "sequentialminus": [
            [
             0,
             "#0d0887"
            ],
            [
             0.1111111111111111,
             "#46039f"
            ],
            [
             0.2222222222222222,
             "#7201a8"
            ],
            [
             0.3333333333333333,
             "#9c179e"
            ],
            [
             0.4444444444444444,
             "#bd3786"
            ],
            [
             0.5555555555555556,
             "#d8576b"
            ],
            [
             0.6666666666666666,
             "#ed7953"
            ],
            [
             0.7777777777777778,
             "#fb9f3a"
            ],
            [
             0.8888888888888888,
             "#fdca26"
            ],
            [
             1,
             "#f0f921"
            ]
           ]
          },
          "colorway": [
           "#636efa",
           "#EF553B",
           "#00cc96",
           "#ab63fa",
           "#FFA15A",
           "#19d3f3",
           "#FF6692",
           "#B6E880",
           "#FF97FF",
           "#FECB52"
          ],
          "font": {
           "color": "#2a3f5f"
          },
          "geo": {
           "bgcolor": "white",
           "lakecolor": "white",
           "landcolor": "#E5ECF6",
           "showlakes": true,
           "showland": true,
           "subunitcolor": "white"
          },
          "hoverlabel": {
           "align": "left"
          },
          "hovermode": "closest",
          "mapbox": {
           "style": "light"
          },
          "paper_bgcolor": "white",
          "plot_bgcolor": "#E5ECF6",
          "polar": {
           "angularaxis": {
            "gridcolor": "white",
            "linecolor": "white",
            "ticks": ""
           },
           "bgcolor": "#E5ECF6",
           "radialaxis": {
            "gridcolor": "white",
            "linecolor": "white",
            "ticks": ""
           }
          },
          "scene": {
           "xaxis": {
            "backgroundcolor": "#E5ECF6",
            "gridcolor": "white",
            "gridwidth": 2,
            "linecolor": "white",
            "showbackground": true,
            "ticks": "",
            "zerolinecolor": "white"
           },
           "yaxis": {
            "backgroundcolor": "#E5ECF6",
            "gridcolor": "white",
            "gridwidth": 2,
            "linecolor": "white",
            "showbackground": true,
            "ticks": "",
            "zerolinecolor": "white"
           },
           "zaxis": {
            "backgroundcolor": "#E5ECF6",
            "gridcolor": "white",
            "gridwidth": 2,
            "linecolor": "white",
            "showbackground": true,
            "ticks": "",
            "zerolinecolor": "white"
           }
          },
          "shapedefaults": {
           "line": {
            "color": "#2a3f5f"
           }
          },
          "ternary": {
           "aaxis": {
            "gridcolor": "white",
            "linecolor": "white",
            "ticks": ""
           },
           "baxis": {
            "gridcolor": "white",
            "linecolor": "white",
            "ticks": ""
           },
           "bgcolor": "#E5ECF6",
           "caxis": {
            "gridcolor": "white",
            "linecolor": "white",
            "ticks": ""
           }
          },
          "title": {
           "x": 0.05
          },
          "xaxis": {
           "automargin": true,
           "gridcolor": "white",
           "linecolor": "white",
           "ticks": "",
           "title": {
            "standoff": 15
           },
           "zerolinecolor": "white",
           "zerolinewidth": 2
          },
          "yaxis": {
           "automargin": true,
           "gridcolor": "white",
           "linecolor": "white",
           "ticks": "",
           "title": {
            "standoff": 15
           },
           "zerolinecolor": "white",
           "zerolinewidth": 2
          }
         }
        },
        "title": {
         "text": "Death Cases"
        },
        "width": 800,
        "xaxis": {
         "anchor": "y",
         "domain": [
          0,
          1
         ],
         "title": {
          "text": "country"
         }
        },
        "yaxis": {
         "anchor": "x",
         "domain": [
          0,
          1
         ],
         "title": {
          "text": "deaths"
         }
        }
       }
      },
      "text/html": [
       "<div>\n",
       "        \n",
       "        \n",
       "            <div id=\"9c94b705-40bd-4edc-ade2-28af2adf8524\" class=\"plotly-graph-div\" style=\"height:500px; width:800px;\"></div>\n",
       "            <script type=\"text/javascript\">\n",
       "                require([\"plotly\"], function(Plotly) {\n",
       "                    window.PLOTLYENV=window.PLOTLYENV || {};\n",
       "                    \n",
       "                if (document.getElementById(\"9c94b705-40bd-4edc-ade2-28af2adf8524\")) {\n",
       "                    Plotly.newPlot(\n",
       "                        '9c94b705-40bd-4edc-ade2-28af2adf8524',\n",
       "                        [{\"alignmentgroup\": \"True\", \"hovertemplate\": \"country=%{x}<br>deaths=%{y}<extra></extra>\", \"legendgroup\": \"\", \"marker\": {\"color\": \"pink\"}, \"name\": \"\", \"offsetgroup\": \"\", \"orientation\": \"v\", \"showlegend\": false, \"textposition\": \"auto\", \"type\": \"bar\", \"x\": [\"US\", \"Brazil\", \"India\", \"Russia\", \"South Africa\", \"Mexico\", \"Peru\", \"Colombia\", \"Chile\", \"Iran\"], \"xaxis\": \"x\", \"y\": [163463.0, 101752.0, 45257.0, 14973.0, 10621.0, 53003.0, 21276.0, 13154.0, 10139.0, 18616.0], \"yaxis\": \"y\"}],\n",
       "                        {\"barmode\": \"relative\", \"height\": 500, \"legend\": {\"tracegroupgap\": 0}, \"template\": {\"data\": {\"bar\": [{\"error_x\": {\"color\": \"#2a3f5f\"}, \"error_y\": {\"color\": \"#2a3f5f\"}, \"marker\": {\"line\": {\"color\": \"#E5ECF6\", \"width\": 0.5}}, \"type\": \"bar\"}], \"barpolar\": [{\"marker\": {\"line\": {\"color\": \"#E5ECF6\", \"width\": 0.5}}, \"type\": \"barpolar\"}], \"carpet\": [{\"aaxis\": {\"endlinecolor\": \"#2a3f5f\", \"gridcolor\": \"white\", \"linecolor\": \"white\", \"minorgridcolor\": \"white\", \"startlinecolor\": \"#2a3f5f\"}, \"baxis\": {\"endlinecolor\": \"#2a3f5f\", \"gridcolor\": \"white\", \"linecolor\": \"white\", \"minorgridcolor\": \"white\", \"startlinecolor\": \"#2a3f5f\"}, \"type\": \"carpet\"}], \"choropleth\": [{\"colorbar\": {\"outlinewidth\": 0, \"ticks\": \"\"}, \"type\": \"choropleth\"}], \"contour\": [{\"colorbar\": {\"outlinewidth\": 0, \"ticks\": \"\"}, \"colorscale\": [[0.0, \"#0d0887\"], [0.1111111111111111, \"#46039f\"], [0.2222222222222222, \"#7201a8\"], [0.3333333333333333, \"#9c179e\"], [0.4444444444444444, \"#bd3786\"], [0.5555555555555556, \"#d8576b\"], [0.6666666666666666, \"#ed7953\"], [0.7777777777777778, \"#fb9f3a\"], [0.8888888888888888, \"#fdca26\"], [1.0, \"#f0f921\"]], \"type\": \"contour\"}], \"contourcarpet\": [{\"colorbar\": {\"outlinewidth\": 0, \"ticks\": \"\"}, \"type\": \"contourcarpet\"}], \"heatmap\": [{\"colorbar\": {\"outlinewidth\": 0, \"ticks\": \"\"}, \"colorscale\": [[0.0, \"#0d0887\"], [0.1111111111111111, \"#46039f\"], [0.2222222222222222, \"#7201a8\"], [0.3333333333333333, \"#9c179e\"], [0.4444444444444444, \"#bd3786\"], [0.5555555555555556, \"#d8576b\"], [0.6666666666666666, \"#ed7953\"], [0.7777777777777778, \"#fb9f3a\"], [0.8888888888888888, \"#fdca26\"], [1.0, \"#f0f921\"]], \"type\": \"heatmap\"}], \"heatmapgl\": [{\"colorbar\": {\"outlinewidth\": 0, \"ticks\": \"\"}, \"colorscale\": [[0.0, \"#0d0887\"], [0.1111111111111111, \"#46039f\"], [0.2222222222222222, \"#7201a8\"], [0.3333333333333333, \"#9c179e\"], [0.4444444444444444, \"#bd3786\"], [0.5555555555555556, \"#d8576b\"], [0.6666666666666666, \"#ed7953\"], [0.7777777777777778, \"#fb9f3a\"], [0.8888888888888888, \"#fdca26\"], [1.0, \"#f0f921\"]], \"type\": \"heatmapgl\"}], \"histogram\": [{\"marker\": {\"colorbar\": {\"outlinewidth\": 0, \"ticks\": \"\"}}, \"type\": \"histogram\"}], \"histogram2d\": [{\"colorbar\": {\"outlinewidth\": 0, \"ticks\": \"\"}, \"colorscale\": [[0.0, \"#0d0887\"], [0.1111111111111111, \"#46039f\"], [0.2222222222222222, \"#7201a8\"], [0.3333333333333333, \"#9c179e\"], [0.4444444444444444, \"#bd3786\"], [0.5555555555555556, \"#d8576b\"], [0.6666666666666666, \"#ed7953\"], [0.7777777777777778, \"#fb9f3a\"], [0.8888888888888888, \"#fdca26\"], [1.0, \"#f0f921\"]], \"type\": \"histogram2d\"}], \"histogram2dcontour\": [{\"colorbar\": {\"outlinewidth\": 0, \"ticks\": \"\"}, \"colorscale\": [[0.0, \"#0d0887\"], [0.1111111111111111, \"#46039f\"], [0.2222222222222222, \"#7201a8\"], [0.3333333333333333, \"#9c179e\"], [0.4444444444444444, \"#bd3786\"], [0.5555555555555556, \"#d8576b\"], [0.6666666666666666, \"#ed7953\"], [0.7777777777777778, \"#fb9f3a\"], [0.8888888888888888, \"#fdca26\"], [1.0, \"#f0f921\"]], \"type\": \"histogram2dcontour\"}], \"mesh3d\": [{\"colorbar\": {\"outlinewidth\": 0, \"ticks\": \"\"}, \"type\": \"mesh3d\"}], \"parcoords\": [{\"line\": {\"colorbar\": {\"outlinewidth\": 0, \"ticks\": \"\"}}, \"type\": \"parcoords\"}], \"pie\": [{\"automargin\": true, \"type\": \"pie\"}], \"scatter\": [{\"marker\": {\"colorbar\": {\"outlinewidth\": 0, \"ticks\": \"\"}}, \"type\": \"scatter\"}], \"scatter3d\": [{\"line\": {\"colorbar\": {\"outlinewidth\": 0, \"ticks\": \"\"}}, \"marker\": {\"colorbar\": {\"outlinewidth\": 0, \"ticks\": \"\"}}, \"type\": \"scatter3d\"}], \"scattercarpet\": [{\"marker\": {\"colorbar\": {\"outlinewidth\": 0, \"ticks\": \"\"}}, \"type\": \"scattercarpet\"}], \"scattergeo\": [{\"marker\": {\"colorbar\": {\"outlinewidth\": 0, \"ticks\": \"\"}}, \"type\": \"scattergeo\"}], \"scattergl\": [{\"marker\": {\"colorbar\": {\"outlinewidth\": 0, \"ticks\": \"\"}}, \"type\": \"scattergl\"}], \"scattermapbox\": [{\"marker\": {\"colorbar\": {\"outlinewidth\": 0, \"ticks\": \"\"}}, \"type\": \"scattermapbox\"}], \"scatterpolar\": [{\"marker\": {\"colorbar\": {\"outlinewidth\": 0, \"ticks\": \"\"}}, \"type\": \"scatterpolar\"}], \"scatterpolargl\": [{\"marker\": {\"colorbar\": {\"outlinewidth\": 0, \"ticks\": \"\"}}, \"type\": \"scatterpolargl\"}], \"scatterternary\": [{\"marker\": {\"colorbar\": {\"outlinewidth\": 0, \"ticks\": \"\"}}, \"type\": \"scatterternary\"}], \"surface\": [{\"colorbar\": {\"outlinewidth\": 0, \"ticks\": \"\"}, \"colorscale\": [[0.0, \"#0d0887\"], [0.1111111111111111, \"#46039f\"], [0.2222222222222222, \"#7201a8\"], [0.3333333333333333, \"#9c179e\"], [0.4444444444444444, \"#bd3786\"], [0.5555555555555556, \"#d8576b\"], [0.6666666666666666, \"#ed7953\"], [0.7777777777777778, \"#fb9f3a\"], [0.8888888888888888, \"#fdca26\"], [1.0, \"#f0f921\"]], \"type\": \"surface\"}], \"table\": [{\"cells\": {\"fill\": {\"color\": \"#EBF0F8\"}, \"line\": {\"color\": \"white\"}}, \"header\": {\"fill\": {\"color\": \"#C8D4E3\"}, \"line\": {\"color\": \"white\"}}, \"type\": \"table\"}]}, \"layout\": {\"annotationdefaults\": {\"arrowcolor\": \"#2a3f5f\", \"arrowhead\": 0, \"arrowwidth\": 1}, \"coloraxis\": {\"colorbar\": {\"outlinewidth\": 0, \"ticks\": \"\"}}, \"colorscale\": {\"diverging\": [[0, \"#8e0152\"], [0.1, \"#c51b7d\"], [0.2, \"#de77ae\"], [0.3, \"#f1b6da\"], [0.4, \"#fde0ef\"], [0.5, \"#f7f7f7\"], [0.6, \"#e6f5d0\"], [0.7, \"#b8e186\"], [0.8, \"#7fbc41\"], [0.9, \"#4d9221\"], [1, \"#276419\"]], \"sequential\": [[0.0, \"#0d0887\"], [0.1111111111111111, \"#46039f\"], [0.2222222222222222, \"#7201a8\"], [0.3333333333333333, \"#9c179e\"], [0.4444444444444444, \"#bd3786\"], [0.5555555555555556, \"#d8576b\"], [0.6666666666666666, \"#ed7953\"], [0.7777777777777778, \"#fb9f3a\"], [0.8888888888888888, \"#fdca26\"], [1.0, \"#f0f921\"]], \"sequentialminus\": [[0.0, \"#0d0887\"], [0.1111111111111111, \"#46039f\"], [0.2222222222222222, \"#7201a8\"], [0.3333333333333333, \"#9c179e\"], [0.4444444444444444, \"#bd3786\"], [0.5555555555555556, \"#d8576b\"], [0.6666666666666666, \"#ed7953\"], [0.7777777777777778, \"#fb9f3a\"], [0.8888888888888888, \"#fdca26\"], [1.0, \"#f0f921\"]]}, \"colorway\": [\"#636efa\", \"#EF553B\", \"#00cc96\", \"#ab63fa\", \"#FFA15A\", \"#19d3f3\", \"#FF6692\", \"#B6E880\", \"#FF97FF\", \"#FECB52\"], \"font\": {\"color\": \"#2a3f5f\"}, \"geo\": {\"bgcolor\": \"white\", \"lakecolor\": \"white\", \"landcolor\": \"#E5ECF6\", \"showlakes\": true, \"showland\": true, \"subunitcolor\": \"white\"}, \"hoverlabel\": {\"align\": \"left\"}, \"hovermode\": \"closest\", \"mapbox\": {\"style\": \"light\"}, \"paper_bgcolor\": \"white\", \"plot_bgcolor\": \"#E5ECF6\", \"polar\": {\"angularaxis\": {\"gridcolor\": \"white\", \"linecolor\": \"white\", \"ticks\": \"\"}, \"bgcolor\": \"#E5ECF6\", \"radialaxis\": {\"gridcolor\": \"white\", \"linecolor\": \"white\", \"ticks\": \"\"}}, \"scene\": {\"xaxis\": {\"backgroundcolor\": \"#E5ECF6\", \"gridcolor\": \"white\", \"gridwidth\": 2, \"linecolor\": \"white\", \"showbackground\": true, \"ticks\": \"\", \"zerolinecolor\": \"white\"}, \"yaxis\": {\"backgroundcolor\": \"#E5ECF6\", \"gridcolor\": \"white\", \"gridwidth\": 2, \"linecolor\": \"white\", \"showbackground\": true, \"ticks\": \"\", \"zerolinecolor\": \"white\"}, \"zaxis\": {\"backgroundcolor\": \"#E5ECF6\", \"gridcolor\": \"white\", \"gridwidth\": 2, \"linecolor\": \"white\", \"showbackground\": true, \"ticks\": \"\", \"zerolinecolor\": \"white\"}}, \"shapedefaults\": {\"line\": {\"color\": \"#2a3f5f\"}}, \"ternary\": {\"aaxis\": {\"gridcolor\": \"white\", \"linecolor\": \"white\", \"ticks\": \"\"}, \"baxis\": {\"gridcolor\": \"white\", \"linecolor\": \"white\", \"ticks\": \"\"}, \"bgcolor\": \"#E5ECF6\", \"caxis\": {\"gridcolor\": \"white\", \"linecolor\": \"white\", \"ticks\": \"\"}}, \"title\": {\"x\": 0.05}, \"xaxis\": {\"automargin\": true, \"gridcolor\": \"white\", \"linecolor\": \"white\", \"ticks\": \"\", \"title\": {\"standoff\": 15}, \"zerolinecolor\": \"white\", \"zerolinewidth\": 2}, \"yaxis\": {\"automargin\": true, \"gridcolor\": \"white\", \"linecolor\": \"white\", \"ticks\": \"\", \"title\": {\"standoff\": 15}, \"zerolinecolor\": \"white\", \"zerolinewidth\": 2}}}, \"title\": {\"text\": \"Death Cases\"}, \"width\": 800, \"xaxis\": {\"anchor\": \"y\", \"domain\": [0.0, 1.0], \"title\": {\"text\": \"country\"}}, \"yaxis\": {\"anchor\": \"x\", \"domain\": [0.0, 1.0], \"title\": {\"text\": \"deaths\"}}},\n",
       "                        {\"responsive\": true}\n",
       "                    ).then(function(){\n",
       "                            \n",
       "var gd = document.getElementById('9c94b705-40bd-4edc-ade2-28af2adf8524');\n",
       "var x = new MutationObserver(function (mutations, observer) {{\n",
       "        var display = window.getComputedStyle(gd).display;\n",
       "        if (!display || display === 'none') {{\n",
       "            console.log([gd, 'removed!']);\n",
       "            Plotly.purge(gd);\n",
       "            observer.disconnect();\n",
       "        }}\n",
       "}});\n",
       "\n",
       "// Listen for the removal of the full notebook cells\n",
       "var notebookContainer = gd.closest('#notebook-container');\n",
       "if (notebookContainer) {{\n",
       "    x.observe(notebookContainer, {childList: true});\n",
       "}}\n",
       "\n",
       "// Listen for the clearing of the current output cell\n",
       "var outputEl = gd.closest('.output');\n",
       "if (outputEl) {{\n",
       "    x.observe(outputEl, {childList: true});\n",
       "}}\n",
       "\n",
       "                        })\n",
       "                };\n",
       "                });\n",
       "            </script>\n",
       "        </div>"
      ]
     },
     "metadata": {},
     "output_type": "display_data"
    }
   ],
   "source": [
    "px.bar(\n",
    "    sorted_country_df.head(10),\n",
    "    x = \"country\",\n",
    "    y = \"deaths\",\n",
    "    title= \"Death Cases\", # the axis names\n",
    "    color_discrete_sequence=[\"pink\"], \n",
    "    height=500,\n",
    "    width=800\n",
    ")"
   ]
  },
  {
   "cell_type": "code",
   "execution_count": 27,
   "metadata": {},
   "outputs": [
    {
     "data": {
      "application/vnd.plotly.v1+json": {
       "config": {
        "plotlyServerURL": "https://plot.ly"
       },
       "data": [
        {
         "alignmentgroup": "True",
         "hovertemplate": "country=%{x}<br>recovered=%{y}<extra></extra>",
         "legendgroup": "",
         "marker": {
          "color": "lightgreen"
         },
         "name": "",
         "offsetgroup": "",
         "orientation": "v",
         "showlegend": false,
         "textposition": "auto",
         "type": "bar",
         "x": [
          "US",
          "Brazil",
          "India",
          "Russia",
          "South Africa",
          "Mexico",
          "Peru",
          "Colombia",
          "Chile",
          "Iran"
         ],
         "xaxis": "x",
         "y": [
          1670755,
          2390830,
          1583489,
          695317,
          417200,
          393160,
          324020,
          221484,
          347342,
          286642
         ],
         "yaxis": "y"
        }
       ],
       "layout": {
        "barmode": "relative",
        "height": 500,
        "legend": {
         "tracegroupgap": 0
        },
        "template": {
         "data": {
          "bar": [
           {
            "error_x": {
             "color": "#2a3f5f"
            },
            "error_y": {
             "color": "#2a3f5f"
            },
            "marker": {
             "line": {
              "color": "#E5ECF6",
              "width": 0.5
             }
            },
            "type": "bar"
           }
          ],
          "barpolar": [
           {
            "marker": {
             "line": {
              "color": "#E5ECF6",
              "width": 0.5
             }
            },
            "type": "barpolar"
           }
          ],
          "carpet": [
           {
            "aaxis": {
             "endlinecolor": "#2a3f5f",
             "gridcolor": "white",
             "linecolor": "white",
             "minorgridcolor": "white",
             "startlinecolor": "#2a3f5f"
            },
            "baxis": {
             "endlinecolor": "#2a3f5f",
             "gridcolor": "white",
             "linecolor": "white",
             "minorgridcolor": "white",
             "startlinecolor": "#2a3f5f"
            },
            "type": "carpet"
           }
          ],
          "choropleth": [
           {
            "colorbar": {
             "outlinewidth": 0,
             "ticks": ""
            },
            "type": "choropleth"
           }
          ],
          "contour": [
           {
            "colorbar": {
             "outlinewidth": 0,
             "ticks": ""
            },
            "colorscale": [
             [
              0,
              "#0d0887"
             ],
             [
              0.1111111111111111,
              "#46039f"
             ],
             [
              0.2222222222222222,
              "#7201a8"
             ],
             [
              0.3333333333333333,
              "#9c179e"
             ],
             [
              0.4444444444444444,
              "#bd3786"
             ],
             [
              0.5555555555555556,
              "#d8576b"
             ],
             [
              0.6666666666666666,
              "#ed7953"
             ],
             [
              0.7777777777777778,
              "#fb9f3a"
             ],
             [
              0.8888888888888888,
              "#fdca26"
             ],
             [
              1,
              "#f0f921"
             ]
            ],
            "type": "contour"
           }
          ],
          "contourcarpet": [
           {
            "colorbar": {
             "outlinewidth": 0,
             "ticks": ""
            },
            "type": "contourcarpet"
           }
          ],
          "heatmap": [
           {
            "colorbar": {
             "outlinewidth": 0,
             "ticks": ""
            },
            "colorscale": [
             [
              0,
              "#0d0887"
             ],
             [
              0.1111111111111111,
              "#46039f"
             ],
             [
              0.2222222222222222,
              "#7201a8"
             ],
             [
              0.3333333333333333,
              "#9c179e"
             ],
             [
              0.4444444444444444,
              "#bd3786"
             ],
             [
              0.5555555555555556,
              "#d8576b"
             ],
             [
              0.6666666666666666,
              "#ed7953"
             ],
             [
              0.7777777777777778,
              "#fb9f3a"
             ],
             [
              0.8888888888888888,
              "#fdca26"
             ],
             [
              1,
              "#f0f921"
             ]
            ],
            "type": "heatmap"
           }
          ],
          "heatmapgl": [
           {
            "colorbar": {
             "outlinewidth": 0,
             "ticks": ""
            },
            "colorscale": [
             [
              0,
              "#0d0887"
             ],
             [
              0.1111111111111111,
              "#46039f"
             ],
             [
              0.2222222222222222,
              "#7201a8"
             ],
             [
              0.3333333333333333,
              "#9c179e"
             ],
             [
              0.4444444444444444,
              "#bd3786"
             ],
             [
              0.5555555555555556,
              "#d8576b"
             ],
             [
              0.6666666666666666,
              "#ed7953"
             ],
             [
              0.7777777777777778,
              "#fb9f3a"
             ],
             [
              0.8888888888888888,
              "#fdca26"
             ],
             [
              1,
              "#f0f921"
             ]
            ],
            "type": "heatmapgl"
           }
          ],
          "histogram": [
           {
            "marker": {
             "colorbar": {
              "outlinewidth": 0,
              "ticks": ""
             }
            },
            "type": "histogram"
           }
          ],
          "histogram2d": [
           {
            "colorbar": {
             "outlinewidth": 0,
             "ticks": ""
            },
            "colorscale": [
             [
              0,
              "#0d0887"
             ],
             [
              0.1111111111111111,
              "#46039f"
             ],
             [
              0.2222222222222222,
              "#7201a8"
             ],
             [
              0.3333333333333333,
              "#9c179e"
             ],
             [
              0.4444444444444444,
              "#bd3786"
             ],
             [
              0.5555555555555556,
              "#d8576b"
             ],
             [
              0.6666666666666666,
              "#ed7953"
             ],
             [
              0.7777777777777778,
              "#fb9f3a"
             ],
             [
              0.8888888888888888,
              "#fdca26"
             ],
             [
              1,
              "#f0f921"
             ]
            ],
            "type": "histogram2d"
           }
          ],
          "histogram2dcontour": [
           {
            "colorbar": {
             "outlinewidth": 0,
             "ticks": ""
            },
            "colorscale": [
             [
              0,
              "#0d0887"
             ],
             [
              0.1111111111111111,
              "#46039f"
             ],
             [
              0.2222222222222222,
              "#7201a8"
             ],
             [
              0.3333333333333333,
              "#9c179e"
             ],
             [
              0.4444444444444444,
              "#bd3786"
             ],
             [
              0.5555555555555556,
              "#d8576b"
             ],
             [
              0.6666666666666666,
              "#ed7953"
             ],
             [
              0.7777777777777778,
              "#fb9f3a"
             ],
             [
              0.8888888888888888,
              "#fdca26"
             ],
             [
              1,
              "#f0f921"
             ]
            ],
            "type": "histogram2dcontour"
           }
          ],
          "mesh3d": [
           {
            "colorbar": {
             "outlinewidth": 0,
             "ticks": ""
            },
            "type": "mesh3d"
           }
          ],
          "parcoords": [
           {
            "line": {
             "colorbar": {
              "outlinewidth": 0,
              "ticks": ""
             }
            },
            "type": "parcoords"
           }
          ],
          "pie": [
           {
            "automargin": true,
            "type": "pie"
           }
          ],
          "scatter": [
           {
            "marker": {
             "colorbar": {
              "outlinewidth": 0,
              "ticks": ""
             }
            },
            "type": "scatter"
           }
          ],
          "scatter3d": [
           {
            "line": {
             "colorbar": {
              "outlinewidth": 0,
              "ticks": ""
             }
            },
            "marker": {
             "colorbar": {
              "outlinewidth": 0,
              "ticks": ""
             }
            },
            "type": "scatter3d"
           }
          ],
          "scattercarpet": [
           {
            "marker": {
             "colorbar": {
              "outlinewidth": 0,
              "ticks": ""
             }
            },
            "type": "scattercarpet"
           }
          ],
          "scattergeo": [
           {
            "marker": {
             "colorbar": {
              "outlinewidth": 0,
              "ticks": ""
             }
            },
            "type": "scattergeo"
           }
          ],
          "scattergl": [
           {
            "marker": {
             "colorbar": {
              "outlinewidth": 0,
              "ticks": ""
             }
            },
            "type": "scattergl"
           }
          ],
          "scattermapbox": [
           {
            "marker": {
             "colorbar": {
              "outlinewidth": 0,
              "ticks": ""
             }
            },
            "type": "scattermapbox"
           }
          ],
          "scatterpolar": [
           {
            "marker": {
             "colorbar": {
              "outlinewidth": 0,
              "ticks": ""
             }
            },
            "type": "scatterpolar"
           }
          ],
          "scatterpolargl": [
           {
            "marker": {
             "colorbar": {
              "outlinewidth": 0,
              "ticks": ""
             }
            },
            "type": "scatterpolargl"
           }
          ],
          "scatterternary": [
           {
            "marker": {
             "colorbar": {
              "outlinewidth": 0,
              "ticks": ""
             }
            },
            "type": "scatterternary"
           }
          ],
          "surface": [
           {
            "colorbar": {
             "outlinewidth": 0,
             "ticks": ""
            },
            "colorscale": [
             [
              0,
              "#0d0887"
             ],
             [
              0.1111111111111111,
              "#46039f"
             ],
             [
              0.2222222222222222,
              "#7201a8"
             ],
             [
              0.3333333333333333,
              "#9c179e"
             ],
             [
              0.4444444444444444,
              "#bd3786"
             ],
             [
              0.5555555555555556,
              "#d8576b"
             ],
             [
              0.6666666666666666,
              "#ed7953"
             ],
             [
              0.7777777777777778,
              "#fb9f3a"
             ],
             [
              0.8888888888888888,
              "#fdca26"
             ],
             [
              1,
              "#f0f921"
             ]
            ],
            "type": "surface"
           }
          ],
          "table": [
           {
            "cells": {
             "fill": {
              "color": "#EBF0F8"
             },
             "line": {
              "color": "white"
             }
            },
            "header": {
             "fill": {
              "color": "#C8D4E3"
             },
             "line": {
              "color": "white"
             }
            },
            "type": "table"
           }
          ]
         },
         "layout": {
          "annotationdefaults": {
           "arrowcolor": "#2a3f5f",
           "arrowhead": 0,
           "arrowwidth": 1
          },
          "coloraxis": {
           "colorbar": {
            "outlinewidth": 0,
            "ticks": ""
           }
          },
          "colorscale": {
           "diverging": [
            [
             0,
             "#8e0152"
            ],
            [
             0.1,
             "#c51b7d"
            ],
            [
             0.2,
             "#de77ae"
            ],
            [
             0.3,
             "#f1b6da"
            ],
            [
             0.4,
             "#fde0ef"
            ],
            [
             0.5,
             "#f7f7f7"
            ],
            [
             0.6,
             "#e6f5d0"
            ],
            [
             0.7,
             "#b8e186"
            ],
            [
             0.8,
             "#7fbc41"
            ],
            [
             0.9,
             "#4d9221"
            ],
            [
             1,
             "#276419"
            ]
           ],
           "sequential": [
            [
             0,
             "#0d0887"
            ],
            [
             0.1111111111111111,
             "#46039f"
            ],
            [
             0.2222222222222222,
             "#7201a8"
            ],
            [
             0.3333333333333333,
             "#9c179e"
            ],
            [
             0.4444444444444444,
             "#bd3786"
            ],
            [
             0.5555555555555556,
             "#d8576b"
            ],
            [
             0.6666666666666666,
             "#ed7953"
            ],
            [
             0.7777777777777778,
             "#fb9f3a"
            ],
            [
             0.8888888888888888,
             "#fdca26"
            ],
            [
             1,
             "#f0f921"
            ]
           ],
           "sequentialminus": [
            [
             0,
             "#0d0887"
            ],
            [
             0.1111111111111111,
             "#46039f"
            ],
            [
             0.2222222222222222,
             "#7201a8"
            ],
            [
             0.3333333333333333,
             "#9c179e"
            ],
            [
             0.4444444444444444,
             "#bd3786"
            ],
            [
             0.5555555555555556,
             "#d8576b"
            ],
            [
             0.6666666666666666,
             "#ed7953"
            ],
            [
             0.7777777777777778,
             "#fb9f3a"
            ],
            [
             0.8888888888888888,
             "#fdca26"
            ],
            [
             1,
             "#f0f921"
            ]
           ]
          },
          "colorway": [
           "#636efa",
           "#EF553B",
           "#00cc96",
           "#ab63fa",
           "#FFA15A",
           "#19d3f3",
           "#FF6692",
           "#B6E880",
           "#FF97FF",
           "#FECB52"
          ],
          "font": {
           "color": "#2a3f5f"
          },
          "geo": {
           "bgcolor": "white",
           "lakecolor": "white",
           "landcolor": "#E5ECF6",
           "showlakes": true,
           "showland": true,
           "subunitcolor": "white"
          },
          "hoverlabel": {
           "align": "left"
          },
          "hovermode": "closest",
          "mapbox": {
           "style": "light"
          },
          "paper_bgcolor": "white",
          "plot_bgcolor": "#E5ECF6",
          "polar": {
           "angularaxis": {
            "gridcolor": "white",
            "linecolor": "white",
            "ticks": ""
           },
           "bgcolor": "#E5ECF6",
           "radialaxis": {
            "gridcolor": "white",
            "linecolor": "white",
            "ticks": ""
           }
          },
          "scene": {
           "xaxis": {
            "backgroundcolor": "#E5ECF6",
            "gridcolor": "white",
            "gridwidth": 2,
            "linecolor": "white",
            "showbackground": true,
            "ticks": "",
            "zerolinecolor": "white"
           },
           "yaxis": {
            "backgroundcolor": "#E5ECF6",
            "gridcolor": "white",
            "gridwidth": 2,
            "linecolor": "white",
            "showbackground": true,
            "ticks": "",
            "zerolinecolor": "white"
           },
           "zaxis": {
            "backgroundcolor": "#E5ECF6",
            "gridcolor": "white",
            "gridwidth": 2,
            "linecolor": "white",
            "showbackground": true,
            "ticks": "",
            "zerolinecolor": "white"
           }
          },
          "shapedefaults": {
           "line": {
            "color": "#2a3f5f"
           }
          },
          "ternary": {
           "aaxis": {
            "gridcolor": "white",
            "linecolor": "white",
            "ticks": ""
           },
           "baxis": {
            "gridcolor": "white",
            "linecolor": "white",
            "ticks": ""
           },
           "bgcolor": "#E5ECF6",
           "caxis": {
            "gridcolor": "white",
            "linecolor": "white",
            "ticks": ""
           }
          },
          "title": {
           "x": 0.05
          },
          "xaxis": {
           "automargin": true,
           "gridcolor": "white",
           "linecolor": "white",
           "ticks": "",
           "title": {
            "standoff": 15
           },
           "zerolinecolor": "white",
           "zerolinewidth": 2
          },
          "yaxis": {
           "automargin": true,
           "gridcolor": "white",
           "linecolor": "white",
           "ticks": "",
           "title": {
            "standoff": 15
           },
           "zerolinecolor": "white",
           "zerolinewidth": 2
          }
         }
        },
        "title": {
         "text": "Recovered Cases"
        },
        "width": 800,
        "xaxis": {
         "anchor": "y",
         "domain": [
          0,
          1
         ],
         "title": {
          "text": "country"
         }
        },
        "yaxis": {
         "anchor": "x",
         "domain": [
          0,
          1
         ],
         "title": {
          "text": "recovered"
         }
        }
       }
      },
      "text/html": [
       "<div>\n",
       "        \n",
       "        \n",
       "            <div id=\"bb7d9173-75a2-4a03-80da-ecc60cccaa5f\" class=\"plotly-graph-div\" style=\"height:500px; width:800px;\"></div>\n",
       "            <script type=\"text/javascript\">\n",
       "                require([\"plotly\"], function(Plotly) {\n",
       "                    window.PLOTLYENV=window.PLOTLYENV || {};\n",
       "                    \n",
       "                if (document.getElementById(\"bb7d9173-75a2-4a03-80da-ecc60cccaa5f\")) {\n",
       "                    Plotly.newPlot(\n",
       "                        'bb7d9173-75a2-4a03-80da-ecc60cccaa5f',\n",
       "                        [{\"alignmentgroup\": \"True\", \"hovertemplate\": \"country=%{x}<br>recovered=%{y}<extra></extra>\", \"legendgroup\": \"\", \"marker\": {\"color\": \"lightgreen\"}, \"name\": \"\", \"offsetgroup\": \"\", \"orientation\": \"v\", \"showlegend\": false, \"textposition\": \"auto\", \"type\": \"bar\", \"x\": [\"US\", \"Brazil\", \"India\", \"Russia\", \"South Africa\", \"Mexico\", \"Peru\", \"Colombia\", \"Chile\", \"Iran\"], \"xaxis\": \"x\", \"y\": [1670755.0, 2390830.0, 1583489.0, 695317.0, 417200.0, 393160.0, 324020.0, 221484.0, 347342.0, 286642.0], \"yaxis\": \"y\"}],\n",
       "                        {\"barmode\": \"relative\", \"height\": 500, \"legend\": {\"tracegroupgap\": 0}, \"template\": {\"data\": {\"bar\": [{\"error_x\": {\"color\": \"#2a3f5f\"}, \"error_y\": {\"color\": \"#2a3f5f\"}, \"marker\": {\"line\": {\"color\": \"#E5ECF6\", \"width\": 0.5}}, \"type\": \"bar\"}], \"barpolar\": [{\"marker\": {\"line\": {\"color\": \"#E5ECF6\", \"width\": 0.5}}, \"type\": \"barpolar\"}], \"carpet\": [{\"aaxis\": {\"endlinecolor\": \"#2a3f5f\", \"gridcolor\": \"white\", \"linecolor\": \"white\", \"minorgridcolor\": \"white\", \"startlinecolor\": \"#2a3f5f\"}, \"baxis\": {\"endlinecolor\": \"#2a3f5f\", \"gridcolor\": \"white\", \"linecolor\": \"white\", \"minorgridcolor\": \"white\", \"startlinecolor\": \"#2a3f5f\"}, \"type\": \"carpet\"}], \"choropleth\": [{\"colorbar\": {\"outlinewidth\": 0, \"ticks\": \"\"}, \"type\": \"choropleth\"}], \"contour\": [{\"colorbar\": {\"outlinewidth\": 0, \"ticks\": \"\"}, \"colorscale\": [[0.0, \"#0d0887\"], [0.1111111111111111, \"#46039f\"], [0.2222222222222222, \"#7201a8\"], [0.3333333333333333, \"#9c179e\"], [0.4444444444444444, \"#bd3786\"], [0.5555555555555556, \"#d8576b\"], [0.6666666666666666, \"#ed7953\"], [0.7777777777777778, \"#fb9f3a\"], [0.8888888888888888, \"#fdca26\"], [1.0, \"#f0f921\"]], \"type\": \"contour\"}], \"contourcarpet\": [{\"colorbar\": {\"outlinewidth\": 0, \"ticks\": \"\"}, \"type\": \"contourcarpet\"}], \"heatmap\": [{\"colorbar\": {\"outlinewidth\": 0, \"ticks\": \"\"}, \"colorscale\": [[0.0, \"#0d0887\"], [0.1111111111111111, \"#46039f\"], [0.2222222222222222, \"#7201a8\"], [0.3333333333333333, \"#9c179e\"], [0.4444444444444444, \"#bd3786\"], [0.5555555555555556, \"#d8576b\"], [0.6666666666666666, \"#ed7953\"], [0.7777777777777778, \"#fb9f3a\"], [0.8888888888888888, \"#fdca26\"], [1.0, \"#f0f921\"]], \"type\": \"heatmap\"}], \"heatmapgl\": [{\"colorbar\": {\"outlinewidth\": 0, \"ticks\": \"\"}, \"colorscale\": [[0.0, \"#0d0887\"], [0.1111111111111111, \"#46039f\"], [0.2222222222222222, \"#7201a8\"], [0.3333333333333333, \"#9c179e\"], [0.4444444444444444, \"#bd3786\"], [0.5555555555555556, \"#d8576b\"], [0.6666666666666666, \"#ed7953\"], [0.7777777777777778, \"#fb9f3a\"], [0.8888888888888888, \"#fdca26\"], [1.0, \"#f0f921\"]], \"type\": \"heatmapgl\"}], \"histogram\": [{\"marker\": {\"colorbar\": {\"outlinewidth\": 0, \"ticks\": \"\"}}, \"type\": \"histogram\"}], \"histogram2d\": [{\"colorbar\": {\"outlinewidth\": 0, \"ticks\": \"\"}, \"colorscale\": [[0.0, \"#0d0887\"], [0.1111111111111111, \"#46039f\"], [0.2222222222222222, \"#7201a8\"], [0.3333333333333333, \"#9c179e\"], [0.4444444444444444, \"#bd3786\"], [0.5555555555555556, \"#d8576b\"], [0.6666666666666666, \"#ed7953\"], [0.7777777777777778, \"#fb9f3a\"], [0.8888888888888888, \"#fdca26\"], [1.0, \"#f0f921\"]], \"type\": \"histogram2d\"}], \"histogram2dcontour\": [{\"colorbar\": {\"outlinewidth\": 0, \"ticks\": \"\"}, \"colorscale\": [[0.0, \"#0d0887\"], [0.1111111111111111, \"#46039f\"], [0.2222222222222222, \"#7201a8\"], [0.3333333333333333, \"#9c179e\"], [0.4444444444444444, \"#bd3786\"], [0.5555555555555556, \"#d8576b\"], [0.6666666666666666, \"#ed7953\"], [0.7777777777777778, \"#fb9f3a\"], [0.8888888888888888, \"#fdca26\"], [1.0, \"#f0f921\"]], \"type\": \"histogram2dcontour\"}], \"mesh3d\": [{\"colorbar\": {\"outlinewidth\": 0, \"ticks\": \"\"}, \"type\": \"mesh3d\"}], \"parcoords\": [{\"line\": {\"colorbar\": {\"outlinewidth\": 0, \"ticks\": \"\"}}, \"type\": \"parcoords\"}], \"pie\": [{\"automargin\": true, \"type\": \"pie\"}], \"scatter\": [{\"marker\": {\"colorbar\": {\"outlinewidth\": 0, \"ticks\": \"\"}}, \"type\": \"scatter\"}], \"scatter3d\": [{\"line\": {\"colorbar\": {\"outlinewidth\": 0, \"ticks\": \"\"}}, \"marker\": {\"colorbar\": {\"outlinewidth\": 0, \"ticks\": \"\"}}, \"type\": \"scatter3d\"}], \"scattercarpet\": [{\"marker\": {\"colorbar\": {\"outlinewidth\": 0, \"ticks\": \"\"}}, \"type\": \"scattercarpet\"}], \"scattergeo\": [{\"marker\": {\"colorbar\": {\"outlinewidth\": 0, \"ticks\": \"\"}}, \"type\": \"scattergeo\"}], \"scattergl\": [{\"marker\": {\"colorbar\": {\"outlinewidth\": 0, \"ticks\": \"\"}}, \"type\": \"scattergl\"}], \"scattermapbox\": [{\"marker\": {\"colorbar\": {\"outlinewidth\": 0, \"ticks\": \"\"}}, \"type\": \"scattermapbox\"}], \"scatterpolar\": [{\"marker\": {\"colorbar\": {\"outlinewidth\": 0, \"ticks\": \"\"}}, \"type\": \"scatterpolar\"}], \"scatterpolargl\": [{\"marker\": {\"colorbar\": {\"outlinewidth\": 0, \"ticks\": \"\"}}, \"type\": \"scatterpolargl\"}], \"scatterternary\": [{\"marker\": {\"colorbar\": {\"outlinewidth\": 0, \"ticks\": \"\"}}, \"type\": \"scatterternary\"}], \"surface\": [{\"colorbar\": {\"outlinewidth\": 0, \"ticks\": \"\"}, \"colorscale\": [[0.0, \"#0d0887\"], [0.1111111111111111, \"#46039f\"], [0.2222222222222222, \"#7201a8\"], [0.3333333333333333, \"#9c179e\"], [0.4444444444444444, \"#bd3786\"], [0.5555555555555556, \"#d8576b\"], [0.6666666666666666, \"#ed7953\"], [0.7777777777777778, \"#fb9f3a\"], [0.8888888888888888, \"#fdca26\"], [1.0, \"#f0f921\"]], \"type\": \"surface\"}], \"table\": [{\"cells\": {\"fill\": {\"color\": \"#EBF0F8\"}, \"line\": {\"color\": \"white\"}}, \"header\": {\"fill\": {\"color\": \"#C8D4E3\"}, \"line\": {\"color\": \"white\"}}, \"type\": \"table\"}]}, \"layout\": {\"annotationdefaults\": {\"arrowcolor\": \"#2a3f5f\", \"arrowhead\": 0, \"arrowwidth\": 1}, \"coloraxis\": {\"colorbar\": {\"outlinewidth\": 0, \"ticks\": \"\"}}, \"colorscale\": {\"diverging\": [[0, \"#8e0152\"], [0.1, \"#c51b7d\"], [0.2, \"#de77ae\"], [0.3, \"#f1b6da\"], [0.4, \"#fde0ef\"], [0.5, \"#f7f7f7\"], [0.6, \"#e6f5d0\"], [0.7, \"#b8e186\"], [0.8, \"#7fbc41\"], [0.9, \"#4d9221\"], [1, \"#276419\"]], \"sequential\": [[0.0, \"#0d0887\"], [0.1111111111111111, \"#46039f\"], [0.2222222222222222, \"#7201a8\"], [0.3333333333333333, \"#9c179e\"], [0.4444444444444444, \"#bd3786\"], [0.5555555555555556, \"#d8576b\"], [0.6666666666666666, \"#ed7953\"], [0.7777777777777778, \"#fb9f3a\"], [0.8888888888888888, \"#fdca26\"], [1.0, \"#f0f921\"]], \"sequentialminus\": [[0.0, \"#0d0887\"], [0.1111111111111111, \"#46039f\"], [0.2222222222222222, \"#7201a8\"], [0.3333333333333333, \"#9c179e\"], [0.4444444444444444, \"#bd3786\"], [0.5555555555555556, \"#d8576b\"], [0.6666666666666666, \"#ed7953\"], [0.7777777777777778, \"#fb9f3a\"], [0.8888888888888888, \"#fdca26\"], [1.0, \"#f0f921\"]]}, \"colorway\": [\"#636efa\", \"#EF553B\", \"#00cc96\", \"#ab63fa\", \"#FFA15A\", \"#19d3f3\", \"#FF6692\", \"#B6E880\", \"#FF97FF\", \"#FECB52\"], \"font\": {\"color\": \"#2a3f5f\"}, \"geo\": {\"bgcolor\": \"white\", \"lakecolor\": \"white\", \"landcolor\": \"#E5ECF6\", \"showlakes\": true, \"showland\": true, \"subunitcolor\": \"white\"}, \"hoverlabel\": {\"align\": \"left\"}, \"hovermode\": \"closest\", \"mapbox\": {\"style\": \"light\"}, \"paper_bgcolor\": \"white\", \"plot_bgcolor\": \"#E5ECF6\", \"polar\": {\"angularaxis\": {\"gridcolor\": \"white\", \"linecolor\": \"white\", \"ticks\": \"\"}, \"bgcolor\": \"#E5ECF6\", \"radialaxis\": {\"gridcolor\": \"white\", \"linecolor\": \"white\", \"ticks\": \"\"}}, \"scene\": {\"xaxis\": {\"backgroundcolor\": \"#E5ECF6\", \"gridcolor\": \"white\", \"gridwidth\": 2, \"linecolor\": \"white\", \"showbackground\": true, \"ticks\": \"\", \"zerolinecolor\": \"white\"}, \"yaxis\": {\"backgroundcolor\": \"#E5ECF6\", \"gridcolor\": \"white\", \"gridwidth\": 2, \"linecolor\": \"white\", \"showbackground\": true, \"ticks\": \"\", \"zerolinecolor\": \"white\"}, \"zaxis\": {\"backgroundcolor\": \"#E5ECF6\", \"gridcolor\": \"white\", \"gridwidth\": 2, \"linecolor\": \"white\", \"showbackground\": true, \"ticks\": \"\", \"zerolinecolor\": \"white\"}}, \"shapedefaults\": {\"line\": {\"color\": \"#2a3f5f\"}}, \"ternary\": {\"aaxis\": {\"gridcolor\": \"white\", \"linecolor\": \"white\", \"ticks\": \"\"}, \"baxis\": {\"gridcolor\": \"white\", \"linecolor\": \"white\", \"ticks\": \"\"}, \"bgcolor\": \"#E5ECF6\", \"caxis\": {\"gridcolor\": \"white\", \"linecolor\": \"white\", \"ticks\": \"\"}}, \"title\": {\"x\": 0.05}, \"xaxis\": {\"automargin\": true, \"gridcolor\": \"white\", \"linecolor\": \"white\", \"ticks\": \"\", \"title\": {\"standoff\": 15}, \"zerolinecolor\": \"white\", \"zerolinewidth\": 2}, \"yaxis\": {\"automargin\": true, \"gridcolor\": \"white\", \"linecolor\": \"white\", \"ticks\": \"\", \"title\": {\"standoff\": 15}, \"zerolinecolor\": \"white\", \"zerolinewidth\": 2}}}, \"title\": {\"text\": \"Recovered Cases\"}, \"width\": 800, \"xaxis\": {\"anchor\": \"y\", \"domain\": [0.0, 1.0], \"title\": {\"text\": \"country\"}}, \"yaxis\": {\"anchor\": \"x\", \"domain\": [0.0, 1.0], \"title\": {\"text\": \"recovered\"}}},\n",
       "                        {\"responsive\": true}\n",
       "                    ).then(function(){\n",
       "                            \n",
       "var gd = document.getElementById('bb7d9173-75a2-4a03-80da-ecc60cccaa5f');\n",
       "var x = new MutationObserver(function (mutations, observer) {{\n",
       "        var display = window.getComputedStyle(gd).display;\n",
       "        if (!display || display === 'none') {{\n",
       "            console.log([gd, 'removed!']);\n",
       "            Plotly.purge(gd);\n",
       "            observer.disconnect();\n",
       "        }}\n",
       "}});\n",
       "\n",
       "// Listen for the removal of the full notebook cells\n",
       "var notebookContainer = gd.closest('#notebook-container');\n",
       "if (notebookContainer) {{\n",
       "    x.observe(notebookContainer, {childList: true});\n",
       "}}\n",
       "\n",
       "// Listen for the clearing of the current output cell\n",
       "var outputEl = gd.closest('.output');\n",
       "if (outputEl) {{\n",
       "    x.observe(outputEl, {childList: true});\n",
       "}}\n",
       "\n",
       "                        })\n",
       "                };\n",
       "                });\n",
       "            </script>\n",
       "        </div>"
      ]
     },
     "metadata": {},
     "output_type": "display_data"
    }
   ],
   "source": [
    "px.bar(\n",
    "    sorted_country_df.head(10),\n",
    "    x = \"country\",\n",
    "    y = \"recovered\",\n",
    "    title= \"Recovered Cases\", # the axis names\n",
    "    color_discrete_sequence=[\"lightgreen\"], \n",
    "    height=500,\n",
    "    width=800\n",
    ")"
   ]
  },
  {
   "cell_type": "code",
   "execution_count": null,
   "metadata": {},
   "outputs": [],
   "source": []
  },
  {
   "cell_type": "code",
   "execution_count": null,
   "metadata": {
    "scrolled": true
   },
   "outputs": [
    {
     "ename": "ModuleNotFoundError",
     "evalue": "No module named 'pandas'",
     "output_type": "error",
     "traceback": [
      "\u001b[0;31m---------------------------------------------------------------------------\u001b[0m",
      "\u001b[0;31mModuleNotFoundError\u001b[0m                       Traceback (most recent call last)",
      "\u001b[0;32m<ipython-input-2-7dd3504c366f>\u001b[0m in \u001b[0;36m<module>\u001b[0;34m\u001b[0m\n\u001b[0;32m----> 1\u001b[0;31m \u001b[0;32mimport\u001b[0m \u001b[0mpandas\u001b[0m \u001b[0;32mas\u001b[0m \u001b[0mpd\u001b[0m\u001b[0;34m\u001b[0m\u001b[0;34m\u001b[0m\u001b[0m\n\u001b[0m",
      "\u001b[0;31mModuleNotFoundError\u001b[0m: No module named 'pandas'"
     ]
    }
   ],
   "source": []
  },
  {
   "cell_type": "code",
   "execution_count": null,
   "metadata": {},
   "outputs": [],
   "source": []
  }
 ],
 "metadata": {
  "finalized": {
   "timestamp": 1597345270372,
   "trusted": true
  },
  "kernelspec": {
   "display_name": "venv",
   "language": "python",
   "name": "venv"
  },
  "language_info": {
   "codemirror_mode": {
    "name": "ipython",
    "version": 3
   },
   "file_extension": ".py",
   "mimetype": "text/x-python",
   "name": "python",
   "nbconvert_exporter": "python",
   "pygments_lexer": "ipython3",
   "version": "3.7.6"
  }
 },
 "nbformat": 4,
 "nbformat_minor": 4
}
